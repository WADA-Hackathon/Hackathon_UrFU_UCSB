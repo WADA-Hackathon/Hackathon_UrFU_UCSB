{
  "nbformat": 4,
  "nbformat_minor": 0,
  "metadata": {
    "colab": {
      "name": "Model_Learning.ipynb",
      "provenance": [],
      "collapsed_sections": [],
      "authorship_tag": "ABX9TyN94/+9NXbGZIZwqdl10Rsj"
    },
    "kernelspec": {
      "name": "python3",
      "display_name": "Python 3"
    },
    "language_info": {
      "name": "python"
    }
  },
  "cells": [
    {
      "cell_type": "markdown",
      "source": [
        "# **Загрузка данных, предобработка, обучение модели**"
      ],
      "metadata": {
        "id": "M2eZ3-2VMBs2"
      }
    },
    {
      "cell_type": "markdown",
      "source": [
        "## **Скачивание архива с данными из облака и распаковка архива**"
      ],
      "metadata": {
        "id": "wyh9oKXAMUAd"
      }
    },
    {
      "cell_type": "code",
      "execution_count": null,
      "metadata": {
        "colab": {
          "base_uri": "https://localhost:8080/"
        },
        "id": "sv4dfSY6CHXy",
        "outputId": "4620940c-4b77-4578-f19a-6723142f1cd6"
      },
      "outputs": [
        {
          "output_type": "stream",
          "name": "stdout",
          "text": [
            "/usr/local/lib/python3.7/dist-packages/gdown/cli.py:131: FutureWarning: Option `--id` was deprecated in version 4.3.1 and will be removed in 5.0. You don't need to pass it anymore to use a file ID.\n",
            "  category=FutureWarning,\n",
            "Downloading...\n",
            "From: https://drive.google.com/uc?id=120fgForM_FPs6VLorTEehhbjagJfJBRv\n",
            "To: /content/merged_data.zip\n",
            "100% 53.5M/53.5M [00:01<00:00, 50.6MB/s]\n"
          ]
        }
      ],
      "source": [
        "!gdown --id 120fgForM_FPs6VLorTEehhbjagJfJBRv"
      ]
    },
    {
      "cell_type": "code",
      "source": [
        "!unzip /content/merged_data.zip"
      ],
      "metadata": {
        "colab": {
          "base_uri": "https://localhost:8080/"
        },
        "id": "-kOHujvVCJXm",
        "outputId": "bce5355f-9f83-4544-a2b9-2a3c72f5b7d1"
      },
      "execution_count": null,
      "outputs": [
        {
          "output_type": "stream",
          "name": "stdout",
          "text": [
            "Archive:  /content/merged_data.zip\n",
            "  inflating: merged_data.csv         \n"
          ]
        }
      ]
    },
    {
      "cell_type": "code",
      "source": [
        "!rm /content/merged_data.zip"
      ],
      "metadata": {
        "id": "a2vtGyw2CMWp"
      },
      "execution_count": null,
      "outputs": []
    },
    {
      "cell_type": "markdown",
      "source": [
        "## **Предобработка данных**"
      ],
      "metadata": {
        "id": "tcGFer5BMfs_"
      }
    },
    {
      "cell_type": "markdown",
      "source": [
        "Импорт библиотек"
      ],
      "metadata": {
        "id": "kQzbzU91Mkdm"
      }
    },
    {
      "cell_type": "code",
      "source": [
        "# handle data\n",
        "import numpy as np\n",
        "import pandas as pd\n",
        "\n",
        "# preprocess\n",
        "from sklearn import preprocessing\n",
        "from sklearn.model_selection import train_test_split\n",
        "from sklearn.preprocessing import StandardScaler\n",
        "\n",
        "# model\n",
        "from sklearn.linear_model import LogisticRegression\n",
        "\n",
        "# metrics\n",
        "from sklearn import metrics\n",
        "\n",
        "# visualization\n",
        "import matplotlib.pyplot as plt"
      ],
      "metadata": {
        "id": "zX8EPxihCf-5"
      },
      "execution_count": null,
      "outputs": []
    },
    {
      "cell_type": "markdown",
      "source": [
        "Считывание файла и проверка"
      ],
      "metadata": {
        "id": "Y2uIhbi-Mm9K"
      }
    },
    {
      "cell_type": "code",
      "source": [
        "united_data = pd.read_csv('/content/merged_data.csv', sep=',')"
      ],
      "metadata": {
        "id": "MYaNl40yCmgk"
      },
      "execution_count": null,
      "outputs": []
    },
    {
      "cell_type": "code",
      "source": [
        "united_data.info()"
      ],
      "metadata": {
        "colab": {
          "base_uri": "https://localhost:8080/"
        },
        "id": "8fvbbicFDFng",
        "outputId": "7fc717dd-416a-4741-f652-95c41224b9fb"
      },
      "execution_count": null,
      "outputs": [
        {
          "output_type": "stream",
          "name": "stdout",
          "text": [
            "<class 'pandas.core.frame.DataFrame'>\n",
            "RangeIndex: 1441719 entries, 0 to 1441718\n",
            "Data columns (total 54 columns):\n",
            " #   Column         Non-Null Count    Dtype  \n",
            "---  ------         --------------    -----  \n",
            " 0   Unnamed: 0     1441719 non-null  int64  \n",
            " 1   Timestamp      1441719 non-null  object \n",
            " 2   FIT101         1441719 non-null  float64\n",
            " 3   LIT101         1441719 non-null  float64\n",
            " 4   MV101          1441719 non-null  int64  \n",
            " 5   P101           1441719 non-null  int64  \n",
            " 6   P102           1441719 non-null  int64  \n",
            " 7   AIT201         1441719 non-null  float64\n",
            " 8   AIT202         1441719 non-null  float64\n",
            " 9   AIT203         1441719 non-null  float64\n",
            " 10  FIT201         1441719 non-null  float64\n",
            " 11  MV201          1441719 non-null  int64  \n",
            " 12  P201           1441719 non-null  int64  \n",
            " 13  P202           1441719 non-null  int64  \n",
            " 14  P203           1441719 non-null  int64  \n",
            " 15  P204           1441719 non-null  int64  \n",
            " 16  P205           1441719 non-null  int64  \n",
            " 17  P206           1441719 non-null  int64  \n",
            " 18  DPIT301        1441719 non-null  float64\n",
            " 19  FIT301         1441719 non-null  float64\n",
            " 20  LIT301         1441719 non-null  float64\n",
            " 21  MV301          1441719 non-null  int64  \n",
            " 22  MV302          1441719 non-null  int64  \n",
            " 23  MV303          1441719 non-null  int64  \n",
            " 24  MV304          1441719 non-null  int64  \n",
            " 25  P301           1441719 non-null  int64  \n",
            " 26  P302           1441719 non-null  int64  \n",
            " 27  AIT401         1441719 non-null  float64\n",
            " 28  AIT402         1441719 non-null  float64\n",
            " 29  FIT401         1441719 non-null  float64\n",
            " 30  LIT401         1441719 non-null  float64\n",
            " 31  P401           1441719 non-null  int64  \n",
            " 32  P402           1441719 non-null  int64  \n",
            " 33  P403           1441719 non-null  int64  \n",
            " 34  P404           1441719 non-null  int64  \n",
            " 35  UV401          1441719 non-null  int64  \n",
            " 36  AIT501         1441719 non-null  float64\n",
            " 37  AIT502         1441719 non-null  float64\n",
            " 38  AIT503         1441719 non-null  float64\n",
            " 39  AIT504         1441719 non-null  float64\n",
            " 40  FIT501         1441719 non-null  float64\n",
            " 41  FIT502         1441719 non-null  float64\n",
            " 42  FIT503         1441719 non-null  float64\n",
            " 43  FIT504         1441719 non-null  float64\n",
            " 44  P501           1441719 non-null  int64  \n",
            " 45  P502           1441719 non-null  int64  \n",
            " 46  PIT501         1441719 non-null  float64\n",
            " 47  PIT502         1441719 non-null  float64\n",
            " 48  PIT503         1441719 non-null  float64\n",
            " 49  FIT601         1441719 non-null  float64\n",
            " 50  P601           1441719 non-null  int64  \n",
            " 51  P602           1441719 non-null  int64  \n",
            " 52  P603           1441719 non-null  int64  \n",
            " 53  Normal/Attack  1441719 non-null  object \n",
            "dtypes: float64(25), int64(27), object(2)\n",
            "memory usage: 594.0+ MB\n"
          ]
        }
      ]
    },
    {
      "cell_type": "code",
      "source": [
        "# удаление лишнего столбца\n",
        "united_data.drop('Unnamed: 0', axis=1, inplace=True)"
      ],
      "metadata": {
        "id": "sGA1CcyfDMR8"
      },
      "execution_count": null,
      "outputs": []
    },
    {
      "cell_type": "code",
      "source": [
        "# превращение колонки с временем в индекс\n",
        "united_data = united_data.set_index('Timestamp')"
      ],
      "metadata": {
        "id": "hjrplBs1ENsi"
      },
      "execution_count": null,
      "outputs": []
    },
    {
      "cell_type": "code",
      "source": [
        "# проверка значений целевой переменной\n",
        "united_data[\"Normal/Attack\"].value_counts().plot(kind='bar')"
      ],
      "metadata": {
        "colab": {
          "base_uri": "https://localhost:8080/",
          "height": 319
        },
        "id": "J5WrYzshkJP8",
        "outputId": "5f24edc3-02aa-4f07-c9c5-fc2f79cae0aa"
      },
      "execution_count": null,
      "outputs": [
        {
          "output_type": "execute_result",
          "data": {
            "text/plain": [
              "<matplotlib.axes._subplots.AxesSubplot at 0x7f2daa6a9150>"
            ]
          },
          "metadata": {},
          "execution_count": 9
        },
        {
          "output_type": "display_data",
          "data": {
            "text/plain": [
              "<Figure size 432x288 with 1 Axes>"
            ],
            "image/png": "[encoded data removed]"
          },
          "metadata": {
            "needs_background": "light"
          }
        }
      ]
    },
    {
      "cell_type": "code",
      "source": [
        "# обработка целевой переменной\n",
        "united_data['Normal/Attack'] = united_data['Normal/Attack'].str.replace(' ', '')\n",
        "united_data.loc[united_data[\"Normal/Attack\"] == \"Normal\", \"Normal/Attack\"] = 0\n",
        "united_data.loc[united_data[\"Normal/Attack\"] == \"Attack\", \"Normal/Attack\"] = 1"
      ],
      "metadata": {
        "id": "d9VsdzydC46I"
      },
      "execution_count": null,
      "outputs": []
    },
    {
      "cell_type": "code",
      "source": [
        "united_data"
      ],
      "metadata": {
        "colab": {
          "base_uri": "https://localhost:8080/",
          "height": 866
        },
        "id": "GLgnDFRYEkAs",
        "outputId": "46e64281-1e51-4ebb-b50d-d3973c8405eb"
      },
      "execution_count": null,
      "outputs": [
        {
          "output_type": "execute_result",
          "data": {
            "text/plain": [
              "                           FIT101    LIT101  MV101  P101  P102    AIT201  \\\n",
              "Timestamp                                                                  \n",
              " 28/12/2015 10:00:00 AM  2.427057  522.8467      2     2     1  262.0161   \n",
              " 28/12/2015 10:00:01 AM  2.446274  522.8860      2     2     1  262.0161   \n",
              " 28/12/2015 10:00:02 AM  2.489191  522.8467      2     2     1  262.0161   \n",
              " 28/12/2015 10:00:03 AM  2.534350  522.9645      2     2     1  262.0161   \n",
              " 28/12/2015 10:00:04 AM  2.569260  523.4748      2     2     1  262.0161   \n",
              "...                           ...       ...    ...   ...   ...       ...   \n",
              " 28/12/2015 9:59:55 AM   2.460366  523.0430      2     2     1  262.0161   \n",
              " 28/12/2015 9:59:56 AM   2.448836  522.9645      2     2     1  262.0161   \n",
              " 28/12/2015 9:59:57 AM   2.434744  522.8860      2     2     1  262.0161   \n",
              " 28/12/2015 9:59:58 AM   2.428338  522.9252      2     2     1  262.0161   \n",
              " 28/12/2015 9:59:59 AM   2.427057  522.8467      2     2     1  262.0161   \n",
              "\n",
              "                           AIT202    AIT203    FIT201  MV201  ...  P501  P502  \\\n",
              "Timestamp                                                     ...               \n",
              " 28/12/2015 10:00:00 AM  8.396437  328.6337  2.445391      2  ...     2     1   \n",
              " 28/12/2015 10:00:01 AM  8.396437  328.6337  2.445391      2  ...     2     1   \n",
              " 28/12/2015 10:00:02 AM  8.394514  328.6337  2.442316      2  ...     2     1   \n",
              " 28/12/2015 10:00:03 AM  8.394514  328.6337  2.442316      2  ...     2     1   \n",
              " 28/12/2015 10:00:04 AM  8.394514  328.6337  2.443085      2  ...     2     1   \n",
              "...                           ...       ...       ...    ...  ...   ...   ...   \n",
              " 28/12/2015 9:59:55 AM   8.396437  328.5055  2.442316      2  ...     2     1   \n",
              " 28/12/2015 9:59:56 AM   8.396437  328.5055  2.442316      2  ...     2     1   \n",
              " 28/12/2015 9:59:57 AM   8.396437  328.6337  2.444879      2  ...     2     1   \n",
              " 28/12/2015 9:59:58 AM   8.396437  328.6337  2.445391      2  ...     2     1   \n",
              " 28/12/2015 9:59:59 AM   8.396437  328.6337  2.445391      2  ...     2     1   \n",
              "\n",
              "                           PIT501    PIT502    PIT503    FIT601  P601  P602  \\\n",
              "Timestamp                                                                     \n",
              " 28/12/2015 10:00:00 AM  250.8652  1.649953  189.5988  0.000128     1     1   \n",
              " 28/12/2015 10:00:01 AM  250.8652  1.649953  189.6789  0.000128     1     1   \n",
              " 28/12/2015 10:00:02 AM  250.8812  1.649953  189.6789  0.000128     1     1   \n",
              " 28/12/2015 10:00:03 AM  250.8812  1.649953  189.6148  0.000128     1     1   \n",
              " 28/12/2015 10:00:04 AM  250.8812  1.649953  189.5027  0.000128     1     1   \n",
              "...                           ...       ...       ...       ...   ...   ...   \n",
              " 28/12/2015 9:59:55 AM   250.8171  1.778105  189.8552  0.000128     1     1   \n",
              " 28/12/2015 9:59:56 AM   250.8171  1.778105  189.5027  0.000128     1     1   \n",
              " 28/12/2015 9:59:57 AM   250.8171  1.778105  189.5027  0.000128     1     1   \n",
              " 28/12/2015 9:59:58 AM   250.8171  1.649953  189.5027  0.000128     1     1   \n",
              " 28/12/2015 9:59:59 AM   250.8652  1.649953  189.5988  0.000128     1     1   \n",
              "\n",
              "                         P603  Normal/Attack  \n",
              "Timestamp                                     \n",
              " 28/12/2015 10:00:00 AM     1              0  \n",
              " 28/12/2015 10:00:01 AM     1              0  \n",
              " 28/12/2015 10:00:02 AM     1              0  \n",
              " 28/12/2015 10:00:03 AM     1              0  \n",
              " 28/12/2015 10:00:04 AM     1              0  \n",
              "...                       ...            ...  \n",
              " 28/12/2015 9:59:55 AM      1              0  \n",
              " 28/12/2015 9:59:56 AM      1              0  \n",
              " 28/12/2015 9:59:57 AM      1              0  \n",
              " 28/12/2015 9:59:58 AM      1              0  \n",
              " 28/12/2015 9:59:59 AM      1              0  \n",
              "\n",
              "[1441719 rows x 52 columns]"
            ],
            "text/html": [
              "\n",
              "  <div id=\"df-57d7adf1-50ad-46a8-be6d-a6ab8d16b97d\">\n",
              "    <div class=\"colab-df-container\">\n",
              "      <div>\n",
              "<style scoped>\n",
              "    .dataframe tbody tr th:only-of-type {\n",
              "        vertical-align: middle;\n",
              "    }\n",
              "\n",
              "    .dataframe tbody tr th {\n",
              "        vertical-align: top;\n",
              "    }\n",
              "\n",
              "    .dataframe thead th {\n",
              "        text-align: right;\n",
              "    }\n",
              "</style>\n",
              "<table border=\"1\" class=\"dataframe\">\n",
              "  <thead>\n",
              "    <tr style=\"text-align: right;\">\n",
              "      <th></th>\n",
              "      <th>FIT101</th>\n",
              "      <th>LIT101</th>\n",
              "      <th>MV101</th>\n",
              "      <th>P101</th>\n",
              "      <th>P102</th>\n",
              "      <th>AIT201</th>\n",
              "      <th>AIT202</th>\n",
              "      <th>AIT203</th>\n",
              "      <th>FIT201</th>\n",
              "      <th>MV201</th>\n",
              "      <th>...</th>\n",
              "      <th>P501</th>\n",
              "      <th>P502</th>\n",
              "      <th>PIT501</th>\n",
              "      <th>PIT502</th>\n",
              "      <th>PIT503</th>\n",
              "      <th>FIT601</th>\n",
              "      <th>P601</th>\n",
              "      <th>P602</th>\n",
              "      <th>P603</th>\n",
              "      <th>Normal/Attack</th>\n",
              "    </tr>\n",
              "    <tr>\n",
              "      <th>Timestamp</th>\n",
              "      <th></th>\n",
              "      <th></th>\n",
              "      <th></th>\n",
              "      <th></th>\n",
              "      <th></th>\n",
              "      <th></th>\n",
              "      <th></th>\n",
              "      <th></th>\n",
              "      <th></th>\n",
              "      <th></th>\n",
              "      <th></th>\n",
              "      <th></th>\n",
              "      <th></th>\n",
              "      <th></th>\n",
              "      <th></th>\n",
              "      <th></th>\n",
              "      <th></th>\n",
              "      <th></th>\n",
              "      <th></th>\n",
              "      <th></th>\n",
              "      <th></th>\n",
              "    </tr>\n",
              "  </thead>\n",
              "  <tbody>\n",
              "    <tr>\n",
              "      <th>28/12/2015 10:00:00 AM</th>\n",
              "      <td>2.427057</td>\n",
              "      <td>522.8467</td>\n",
              "      <td>2</td>\n",
              "      <td>2</td>\n",
              "      <td>1</td>\n",
              "      <td>262.0161</td>\n",
              "      <td>8.396437</td>\n",
              "      <td>328.6337</td>\n",
              "      <td>2.445391</td>\n",
              "      <td>2</td>\n",
              "      <td>...</td>\n",
              "      <td>2</td>\n",
              "      <td>1</td>\n",
              "      <td>250.8652</td>\n",
              "      <td>1.649953</td>\n",
              "      <td>189.5988</td>\n",
              "      <td>0.000128</td>\n",
              "      <td>1</td>\n",
              "      <td>1</td>\n",
              "      <td>1</td>\n",
              "      <td>0</td>\n",
              "    </tr>\n",
              "    <tr>\n",
              "      <th>28/12/2015 10:00:01 AM</th>\n",
              "      <td>2.446274</td>\n",
              "      <td>522.8860</td>\n",
              "      <td>2</td>\n",
              "      <td>2</td>\n",
              "      <td>1</td>\n",
              "      <td>262.0161</td>\n",
              "      <td>8.396437</td>\n",
              "      <td>328.6337</td>\n",
              "      <td>2.445391</td>\n",
              "      <td>2</td>\n",
              "      <td>...</td>\n",
              "      <td>2</td>\n",
              "      <td>1</td>\n",
              "      <td>250.8652</td>\n",
              "      <td>1.649953</td>\n",
              "      <td>189.6789</td>\n",
              "      <td>0.000128</td>\n",
              "      <td>1</td>\n",
              "      <td>1</td>\n",
              "      <td>1</td>\n",
              "      <td>0</td>\n",
              "    </tr>\n",
              "    <tr>\n",
              "      <th>28/12/2015 10:00:02 AM</th>\n",
              "      <td>2.489191</td>\n",
              "      <td>522.8467</td>\n",
              "      <td>2</td>\n",
              "      <td>2</td>\n",
              "      <td>1</td>\n",
              "      <td>262.0161</td>\n",
              "      <td>8.394514</td>\n",
              "      <td>328.6337</td>\n",
              "      <td>2.442316</td>\n",
              "      <td>2</td>\n",
              "      <td>...</td>\n",
              "      <td>2</td>\n",
              "      <td>1</td>\n",
              "      <td>250.8812</td>\n",
              "      <td>1.649953</td>\n",
              "      <td>189.6789</td>\n",
              "      <td>0.000128</td>\n",
              "      <td>1</td>\n",
              "      <td>1</td>\n",
              "      <td>1</td>\n",
              "      <td>0</td>\n",
              "    </tr>\n",
              "    <tr>\n",
              "      <th>28/12/2015 10:00:03 AM</th>\n",
              "      <td>2.534350</td>\n",
              "      <td>522.9645</td>\n",
              "      <td>2</td>\n",
              "      <td>2</td>\n",
              "      <td>1</td>\n",
              "      <td>262.0161</td>\n",
              "      <td>8.394514</td>\n",
              "      <td>328.6337</td>\n",
              "      <td>2.442316</td>\n",
              "      <td>2</td>\n",
              "      <td>...</td>\n",
              "      <td>2</td>\n",
              "      <td>1</td>\n",
              "      <td>250.8812</td>\n",
              "      <td>1.649953</td>\n",
              "      <td>189.6148</td>\n",
              "      <td>0.000128</td>\n",
              "      <td>1</td>\n",
              "      <td>1</td>\n",
              "      <td>1</td>\n",
              "      <td>0</td>\n",
              "    </tr>\n",
              "    <tr>\n",
              "      <th>28/12/2015 10:00:04 AM</th>\n",
              "      <td>2.569260</td>\n",
              "      <td>523.4748</td>\n",
              "      <td>2</td>\n",
              "      <td>2</td>\n",
              "      <td>1</td>\n",
              "      <td>262.0161</td>\n",
              "      <td>8.394514</td>\n",
              "      <td>328.6337</td>\n",
              "      <td>2.443085</td>\n",
              "      <td>2</td>\n",
              "      <td>...</td>\n",
              "      <td>2</td>\n",
              "      <td>1</td>\n",
              "      <td>250.8812</td>\n",
              "      <td>1.649953</td>\n",
              "      <td>189.5027</td>\n",
              "      <td>0.000128</td>\n",
              "      <td>1</td>\n",
              "      <td>1</td>\n",
              "      <td>1</td>\n",
              "      <td>0</td>\n",
              "    </tr>\n",
              "    <tr>\n",
              "      <th>...</th>\n",
              "      <td>...</td>\n",
              "      <td>...</td>\n",
              "      <td>...</td>\n",
              "      <td>...</td>\n",
              "      <td>...</td>\n",
              "      <td>...</td>\n",
              "      <td>...</td>\n",
              "      <td>...</td>\n",
              "      <td>...</td>\n",
              "      <td>...</td>\n",
              "      <td>...</td>\n",
              "      <td>...</td>\n",
              "      <td>...</td>\n",
              "      <td>...</td>\n",
              "      <td>...</td>\n",
              "      <td>...</td>\n",
              "      <td>...</td>\n",
              "      <td>...</td>\n",
              "      <td>...</td>\n",
              "      <td>...</td>\n",
              "      <td>...</td>\n",
              "    </tr>\n",
              "    <tr>\n",
              "      <th>28/12/2015 9:59:55 AM</th>\n",
              "      <td>2.460366</td>\n",
              "      <td>523.0430</td>\n",
              "      <td>2</td>\n",
              "      <td>2</td>\n",
              "      <td>1</td>\n",
              "      <td>262.0161</td>\n",
              "      <td>8.396437</td>\n",
              "      <td>328.5055</td>\n",
              "      <td>2.442316</td>\n",
              "      <td>2</td>\n",
              "      <td>...</td>\n",
              "      <td>2</td>\n",
              "      <td>1</td>\n",
              "      <td>250.8171</td>\n",
              "      <td>1.778105</td>\n",
              "      <td>189.8552</td>\n",
              "      <td>0.000128</td>\n",
              "      <td>1</td>\n",
              "      <td>1</td>\n",
              "      <td>1</td>\n",
              "      <td>0</td>\n",
              "    </tr>\n",
              "    <tr>\n",
              "      <th>28/12/2015 9:59:56 AM</th>\n",
              "      <td>2.448836</td>\n",
              "      <td>522.9645</td>\n",
              "      <td>2</td>\n",
              "      <td>2</td>\n",
              "      <td>1</td>\n",
              "      <td>262.0161</td>\n",
              "      <td>8.396437</td>\n",
              "      <td>328.5055</td>\n",
              "      <td>2.442316</td>\n",
              "      <td>2</td>\n",
              "      <td>...</td>\n",
              "      <td>2</td>\n",
              "      <td>1</td>\n",
              "      <td>250.8171</td>\n",
              "      <td>1.778105</td>\n",
              "      <td>189.5027</td>\n",
              "      <td>0.000128</td>\n",
              "      <td>1</td>\n",
              "      <td>1</td>\n",
              "      <td>1</td>\n",
              "      <td>0</td>\n",
              "    </tr>\n",
              "    <tr>\n",
              "      <th>28/12/2015 9:59:57 AM</th>\n",
              "      <td>2.434744</td>\n",
              "      <td>522.8860</td>\n",
              "      <td>2</td>\n",
              "      <td>2</td>\n",
              "      <td>1</td>\n",
              "      <td>262.0161</td>\n",
              "      <td>8.396437</td>\n",
              "      <td>328.6337</td>\n",
              "      <td>2.444879</td>\n",
              "      <td>2</td>\n",
              "      <td>...</td>\n",
              "      <td>2</td>\n",
              "      <td>1</td>\n",
              "      <td>250.8171</td>\n",
              "      <td>1.778105</td>\n",
              "      <td>189.5027</td>\n",
              "      <td>0.000128</td>\n",
              "      <td>1</td>\n",
              "      <td>1</td>\n",
              "      <td>1</td>\n",
              "      <td>0</td>\n",
              "    </tr>\n",
              "    <tr>\n",
              "      <th>28/12/2015 9:59:58 AM</th>\n",
              "      <td>2.428338</td>\n",
              "      <td>522.9252</td>\n",
              "      <td>2</td>\n",
              "      <td>2</td>\n",
              "      <td>1</td>\n",
              "      <td>262.0161</td>\n",
              "      <td>8.396437</td>\n",
              "      <td>328.6337</td>\n",
              "      <td>2.445391</td>\n",
              "      <td>2</td>\n",
              "      <td>...</td>\n",
              "      <td>2</td>\n",
              "      <td>1</td>\n",
              "      <td>250.8171</td>\n",
              "      <td>1.649953</td>\n",
              "      <td>189.5027</td>\n",
              "      <td>0.000128</td>\n",
              "      <td>1</td>\n",
              "      <td>1</td>\n",
              "      <td>1</td>\n",
              "      <td>0</td>\n",
              "    </tr>\n",
              "    <tr>\n",
              "      <th>28/12/2015 9:59:59 AM</th>\n",
              "      <td>2.427057</td>\n",
              "      <td>522.8467</td>\n",
              "      <td>2</td>\n",
              "      <td>2</td>\n",
              "      <td>1</td>\n",
              "      <td>262.0161</td>\n",
              "      <td>8.396437</td>\n",
              "      <td>328.6337</td>\n",
              "      <td>2.445391</td>\n",
              "      <td>2</td>\n",
              "      <td>...</td>\n",
              "      <td>2</td>\n",
              "      <td>1</td>\n",
              "      <td>250.8652</td>\n",
              "      <td>1.649953</td>\n",
              "      <td>189.5988</td>\n",
              "      <td>0.000128</td>\n",
              "      <td>1</td>\n",
              "      <td>1</td>\n",
              "      <td>1</td>\n",
              "      <td>0</td>\n",
              "    </tr>\n",
              "  </tbody>\n",
              "</table>\n",
              "<p>1441719 rows × 52 columns</p>\n",
              "</div>\n",
              "      <button class=\"colab-df-convert\" onclick=\"convertToInteractive('df-57d7adf1-50ad-46a8-be6d-a6ab8d16b97d')\"\n",
              "              title=\"Convert this dataframe to an interactive table.\"\n",
              "              style=\"display:none;\">\n",
              "        \n",
              "  <svg xmlns=\"http://www.w3.org/2000/svg\" height=\"24px\"viewBox=\"0 0 24 24\"\n",
              "       width=\"24px\">\n",
              "    <path d=\"M0 0h24v24H0V0z\" fill=\"none\"/>\n",
              "    <path d=\"M18.56 5.44l.94 2.06.94-2.06 2.06-.94-2.06-.94-.94-2.06-.94 2.06-2.06.94zm-11 1L8.5 8.5l.94-2.06 2.06-.94-2.06-.94L8.5 2.5l-.94 2.06-2.06.94zm10 10l.94 2.06.94-2.06 2.06-.94-2.06-.94-.94-2.06-.94 2.06-2.06.94z\"/><path d=\"M17.41 7.96l-1.37-1.37c-.4-.4-.92-.59-1.43-.59-.52 0-1.04.2-1.43.59L10.3 9.45l-7.72 7.72c-.78.78-.78 2.05 0 2.83L4 21.41c.39.39.9.59 1.41.59.51 0 1.02-.2 1.41-.59l7.78-7.78 2.81-2.81c.8-.78.8-2.07 0-2.86zM5.41 20L4 18.59l7.72-7.72 1.47 1.35L5.41 20z\"/>\n",
              "  </svg>\n",
              "      </button>\n",
              "      \n",
              "  <style>\n",
              "    .colab-df-container {\n",
              "      display:flex;\n",
              "      flex-wrap:wrap;\n",
              "      gap: 12px;\n",
              "    }\n",
              "\n",
              "    .colab-df-convert {\n",
              "      background-color: #E8F0FE;\n",
              "      border: none;\n",
              "      border-radius: 50%;\n",
              "      cursor: pointer;\n",
              "      display: none;\n",
              "      fill: #1967D2;\n",
              "      height: 32px;\n",
              "      padding: 0 0 0 0;\n",
              "      width: 32px;\n",
              "    }\n",
              "\n",
              "    .colab-df-convert:hover {\n",
              "      background-color: #E2EBFA;\n",
              "      box-shadow: 0px 1px 2px rgba(60, 64, 67, 0.3), 0px 1px 3px 1px rgba(60, 64, 67, 0.15);\n",
              "      fill: #174EA6;\n",
              "    }\n",
              "\n",
              "    [theme=dark] .colab-df-convert {\n",
              "      background-color: #3B4455;\n",
              "      fill: #D2E3FC;\n",
              "    }\n",
              "\n",
              "    [theme=dark] .colab-df-convert:hover {\n",
              "      background-color: #434B5C;\n",
              "      box-shadow: 0px 1px 3px 1px rgba(0, 0, 0, 0.15);\n",
              "      filter: drop-shadow(0px 1px 2px rgba(0, 0, 0, 0.3));\n",
              "      fill: #FFFFFF;\n",
              "    }\n",
              "  </style>\n",
              "\n",
              "      <script>\n",
              "        const buttonEl =\n",
              "          document.querySelector('#df-57d7adf1-50ad-46a8-be6d-a6ab8d16b97d button.colab-df-convert');\n",
              "        buttonEl.style.display =\n",
              "          google.colab.kernel.accessAllowed ? 'block' : 'none';\n",
              "\n",
              "        async function convertToInteractive(key) {\n",
              "          const element = document.querySelector('#df-57d7adf1-50ad-46a8-be6d-a6ab8d16b97d');\n",
              "          const dataTable =\n",
              "            await google.colab.kernel.invokeFunction('convertToInteractive',\n",
              "                                                     [key], {});\n",
              "          if (!dataTable) return;\n",
              "\n",
              "          const docLinkHtml = 'Like what you see? Visit the ' +\n",
              "            '<a target=\"_blank\" href=https://colab.research.google.com/notebooks/data_table.ipynb>data table notebook</a>'\n",
              "            + ' to learn more about interactive tables.';\n",
              "          element.innerHTML = '';\n",
              "          dataTable['output_type'] = 'display_data';\n",
              "          await google.colab.output.renderOutput(dataTable, element);\n",
              "          const docLink = document.createElement('div');\n",
              "          docLink.innerHTML = docLinkHtml;\n",
              "          element.appendChild(docLink);\n",
              "        }\n",
              "      </script>\n",
              "    </div>\n",
              "  </div>\n",
              "  "
            ]
          },
          "metadata": {},
          "execution_count": 11
        }
      ]
    },
    {
      "cell_type": "markdown",
      "source": [
        "## **Обучение модели**"
      ],
      "metadata": {
        "id": "jmXQVhlzNKDd"
      }
    },
    {
      "cell_type": "markdown",
      "source": [
        "Используем стандартную классификацию с помощью логистической регрессии чтобы получить модель, которая предсказывает, идет ли атака в текущий момент времени"
      ],
      "metadata": {
        "id": "U6QYILLWVmQq"
      }
    },
    {
      "cell_type": "markdown",
      "source": [
        "### **LogReg**"
      ],
      "metadata": {
        "id": "LvK8z85AWJzP"
      }
    },
    {
      "cell_type": "code",
      "source": [
        "classifier = LogisticRegression(random_state=0)"
      ],
      "metadata": {
        "id": "Tp8eeAs7EvFj"
      },
      "execution_count": null,
      "outputs": []
    },
    {
      "cell_type": "code",
      "source": [
        "# скалирование данных\n",
        "scaler = StandardScaler()\n",
        "scaled_data = scaler.fit_transform(united_data.drop('Normal/Attack', axis=1))"
      ],
      "metadata": {
        "id": "n5OirPMtKy7w"
      },
      "execution_count": null,
      "outputs": []
    },
    {
      "cell_type": "code",
      "source": [
        "# разбиение датасета\n",
        "Y = united_data['Normal/Attack']\n",
        "Y = Y.astype('int')\n",
        "X_train, X_test, Y_train, Y_test = train_test_split(scaled_data, Y, random_state=0, stratify=Y)"
      ],
      "metadata": {
        "id": "I-X7YfBIEykT"
      },
      "execution_count": null,
      "outputs": []
    },
    {
      "cell_type": "code",
      "source": [
        "united_data['Normal/Attack'].value_counts(ascending=True)"
      ],
      "metadata": {
        "colab": {
          "base_uri": "https://localhost:8080/"
        },
        "id": "mN1Eo5U6F3pn",
        "outputId": "a20c5f97-de59-4404-cc33-05ba595fb20d"
      },
      "execution_count": null,
      "outputs": [
        {
          "output_type": "execute_result",
          "data": {
            "text/plain": [
              "1      54621\n",
              "0    1387098\n",
              "Name: Normal/Attack, dtype: int64"
            ]
          },
          "metadata": {},
          "execution_count": 15
        }
      ]
    },
    {
      "cell_type": "markdown",
      "source": [
        "Обучение"
      ],
      "metadata": {
        "id": "K8AU0h4zV9y8"
      }
    },
    {
      "cell_type": "code",
      "source": [
        "classifier.fit(X_train, Y_train)"
      ],
      "metadata": {
        "colab": {
          "base_uri": "https://localhost:8080/"
        },
        "id": "v2ikN-czE21u",
        "outputId": "208598d2-24af-4811-b00b-be7d0e8cf1ca"
      },
      "execution_count": null,
      "outputs": [
        {
          "output_type": "stream",
          "name": "stderr",
          "text": [
            "/usr/local/lib/python3.7/dist-packages/sklearn/linear_model/_logistic.py:818: ConvergenceWarning: lbfgs failed to converge (status=1):\n",
            "STOP: TOTAL NO. of ITERATIONS REACHED LIMIT.\n",
            "\n",
            "Increase the number of iterations (max_iter) or scale the data as shown in:\n",
            "    https://scikit-learn.org/stable/modules/preprocessing.html\n",
            "Please also refer to the documentation for alternative solver options:\n",
            "    https://scikit-learn.org/stable/modules/linear_model.html#logistic-regression\n",
            "  extra_warning_msg=_LOGISTIC_SOLVER_CONVERGENCE_MSG,\n"
          ]
        },
        {
          "output_type": "execute_result",
          "data": {
            "text/plain": [
              "LogisticRegression(random_state=0)"
            ]
          },
          "metadata": {},
          "execution_count": 16
        }
      ]
    },
    {
      "cell_type": "code",
      "source": [
        "predicted_y = classifier.predict(X_test)\n",
        "predicted_y"
      ],
      "metadata": {
        "colab": {
          "base_uri": "https://localhost:8080/"
        },
        "id": "7btaexrKIhRk",
        "outputId": "aa35210a-c163-42f4-e226-aafa5756ee92"
      },
      "execution_count": null,
      "outputs": [
        {
          "output_type": "execute_result",
          "data": {
            "text/plain": [
              "array([0, 0, 0, ..., 0, 0, 0])"
            ]
          },
          "metadata": {},
          "execution_count": 17
        }
      ]
    },
    {
      "cell_type": "markdown",
      "source": [
        "Метрика accuracy по классификации:"
      ],
      "metadata": {
        "id": "69AtkbXhgYno"
      }
    },
    {
      "cell_type": "code",
      "source": [
        "print('Accuracy: {:.2f}'.format(classifier.score(X_test, Y_test)))"
      ],
      "metadata": {
        "colab": {
          "base_uri": "https://localhost:8080/"
        },
        "id": "NQ3vB1uVIgPL",
        "outputId": "8d803d42-8e5d-4ea7-fe64-1d248d065063"
      },
      "execution_count": null,
      "outputs": [
        {
          "output_type": "stream",
          "name": "stdout",
          "text": [
            "Accuracy: 0.99\n"
          ]
        }
      ]
    },
    {
      "cell_type": "markdown",
      "source": [
        "Все метрики:"
      ],
      "metadata": {
        "id": "B8iLTtsugdTs"
      }
    },
    {
      "cell_type": "code",
      "source": [
        "print(metrics.accuracy_score(Y_test,predicted_y))\n",
        "print(metrics.precision_score(Y_test,predicted_y))\n",
        "print(metrics.recall_score(Y_test,predicted_y))\n",
        "print(metrics.f1_score(Y_test,predicted_y))"
      ],
      "metadata": {
        "colab": {
          "base_uri": "https://localhost:8080/"
        },
        "id": "mA5dKa-x1_96",
        "outputId": "843df15b-25d5-4a00-bb83-c38edc6b0d24"
      },
      "execution_count": null,
      "outputs": [
        {
          "output_type": "stream",
          "name": "stdout",
          "text": [
            "0.9897289348833338\n",
            "0.9826398991368441\n",
            "0.741999267667521\n",
            "0.8455311691563047\n"
          ]
        }
      ]
    },
    {
      "cell_type": "markdown",
      "source": [
        "### **Кластеризация**"
      ],
      "metadata": {
        "id": "I8OYZHJhNpf4"
      }
    },
    {
      "cell_type": "markdown",
      "source": [
        "Для оценки того, какие другие зависимости есть в данных, стоим модель кластеризации для попытки группировки схожих параметров при атаках и в нормальном состоянии в кластеры"
      ],
      "metadata": {
        "id": "DS8UtyL9W2kw"
      }
    },
    {
      "cell_type": "markdown",
      "source": [
        "#### **K-means**"
      ],
      "metadata": {
        "id": "dWZofWy9gslo"
      }
    },
    {
      "cell_type": "code",
      "source": [
        "from sklearn.cluster import KMeans"
      ],
      "metadata": {
        "id": "tAoJAJAHVC1R"
      },
      "execution_count": null,
      "outputs": []
    },
    {
      "cell_type": "code",
      "source": [
        "df = united_data\n",
        "df = df.drop('Normal/Attack', axis=1)"
      ],
      "metadata": {
        "id": "6xsee7HiNzAz"
      },
      "execution_count": null,
      "outputs": []
    },
    {
      "cell_type": "code",
      "source": [
        "X_std = StandardScaler().fit_transform(df)"
      ],
      "metadata": {
        "id": "q857JeReN3c9"
      },
      "execution_count": null,
      "outputs": []
    },
    {
      "cell_type": "code",
      "source": [
        "Y = united_data['Normal/Attack']\n",
        "Y = Y.astype('int')\n",
        "X_train, X_test, Y_train, Y_test = train_test_split(X_std, Y, random_state=0, stratify=Y)"
      ],
      "metadata": {
        "id": "wWZeGnI_N13N"
      },
      "execution_count": null,
      "outputs": []
    },
    {
      "cell_type": "markdown",
      "source": [
        "**Обучение модели**"
      ],
      "metadata": {
        "id": "COswNn3LXfD1"
      }
    },
    {
      "cell_type": "code",
      "source": [
        "km = KMeans(n_clusters = 2, init='k-means++', max_iter=100)\n",
        "km.fit(X_std)"
      ],
      "metadata": {
        "colab": {
          "base_uri": "https://localhost:8080/"
        },
        "id": "tsfD69U7N4sG",
        "outputId": "186cd038-e2ff-4b84-8532-4cf1b1cd5c43"
      },
      "execution_count": null,
      "outputs": [
        {
          "output_type": "execute_result",
          "data": {
            "text/plain": [
              "KMeans(max_iter=100, n_clusters=2)"
            ]
          },
          "metadata": {},
          "execution_count": 24
        }
      ]
    },
    {
      "cell_type": "code",
      "source": [
        "y_pred = km.labels_.astype(int)\n",
        "y_pred"
      ],
      "metadata": {
        "colab": {
          "base_uri": "https://localhost:8080/"
        },
        "id": "ppxS1NoTQ6KN",
        "outputId": "3c156129-25c3-4a62-c1ad-8d7ca034a749"
      },
      "execution_count": null,
      "outputs": [
        {
          "output_type": "execute_result",
          "data": {
            "text/plain": [
              "array([0, 0, 0, ..., 0, 0, 0])"
            ]
          },
          "metadata": {},
          "execution_count": 25
        }
      ]
    },
    {
      "cell_type": "code",
      "source": [
        "unique, counts = np.unique(y_pred, return_counts=True)\n",
        "print(np.asarray((unique, counts)).T)"
      ],
      "metadata": {
        "colab": {
          "base_uri": "https://localhost:8080/"
        },
        "id": "9ebgvDWcSjyj",
        "outputId": "3c920da3-dc9b-42f8-e976-37b3ff4a1d49"
      },
      "execution_count": null,
      "outputs": [
        {
          "output_type": "stream",
          "name": "stdout",
          "text": [
            "[[      0 1404939]\n",
            " [      1   36780]]\n"
          ]
        }
      ]
    },
    {
      "cell_type": "markdown",
      "source": [
        "Сравнение получившихся кластеров с целевой переменной датасета"
      ],
      "metadata": {
        "id": "nE46faHfgjy1"
      }
    },
    {
      "cell_type": "code",
      "source": [
        "print(metrics.accuracy_score(united_data['Normal/Attack'].astype('int'),y_pred))"
      ],
      "metadata": {
        "colab": {
          "base_uri": "https://localhost:8080/"
        },
        "id": "SnMiifw0fXLE",
        "outputId": "a583c5f4-f485-4b36-9f42-85189df1a37e"
      },
      "execution_count": null,
      "outputs": [
        {
          "output_type": "stream",
          "name": "stdout",
          "text": [
            "0.9810177988914622\n"
          ]
        }
      ]
    },
    {
      "cell_type": "markdown",
      "source": [
        "**Попробуем 3 кластера**"
      ],
      "metadata": {
        "id": "EJ9uqYbqTJ9M"
      }
    },
    {
      "cell_type": "code",
      "source": [
        "km1 = KMeans(n_clusters = 3, init='k-means++', max_iter=100)\n",
        "km1.fit(X_std)"
      ],
      "metadata": {
        "colab": {
          "base_uri": "https://localhost:8080/"
        },
        "id": "TiJ83ZnHTJTp",
        "outputId": "40f89190-532d-442d-ffe9-a18bcda22e30"
      },
      "execution_count": null,
      "outputs": [
        {
          "output_type": "execute_result",
          "data": {
            "text/plain": [
              "KMeans(max_iter=100, n_clusters=3)"
            ]
          },
          "metadata": {},
          "execution_count": 30
        }
      ]
    },
    {
      "cell_type": "code",
      "source": [
        "y_pred_1 = km1.labels_.astype(int)\n",
        "unique, counts = np.unique(y_pred, return_counts=True)\n",
        "print(np.asarray((unique, counts)).T)"
      ],
      "metadata": {
        "colab": {
          "base_uri": "https://localhost:8080/"
        },
        "id": "snbPT3HJTRoU",
        "outputId": "73e9c7cc-ae1e-44ea-b623-07f1d7672fed"
      },
      "execution_count": null,
      "outputs": [
        {
          "output_type": "stream",
          "name": "stdout",
          "text": [
            "[[      0 1404939]\n",
            " [      1   36780]]\n"
          ]
        }
      ]
    },
    {
      "cell_type": "code",
      "source": [
        "labels_1 = km1.labels_\n",
        "\n",
        "n_clusters_ = len(set(labels_1)) - (1 if -1 in labels_1 else 0)\n",
        "n_noise_ = list(labels_1).count(-1)\n",
        "\n",
        "print(\"Estimated number of clusters: %d\" % n_clusters_)\n",
        "print(\"Estimated number of noise points: %d\" % n_noise_)\n",
        "print(\"Homogeneity: %0.3f\" % metrics.homogeneity_score(Y, labels_1))\n",
        "print(\"Completeness: %0.3f\" % metrics.completeness_score(Y, labels_1))\n",
        "print(\"V-measure: %0.3f\" % metrics.v_measure_score(Y, labels_1))"
      ],
      "metadata": {
        "colab": {
          "base_uri": "https://localhost:8080/"
        },
        "id": "7FPkIpcsTXLY",
        "outputId": "4c8f921f-67eb-40d8-e628-521a8ba3e10b"
      },
      "execution_count": null,
      "outputs": [
        {
          "output_type": "stream",
          "name": "stdout",
          "text": [
            "Estimated number of clusters: 3\n",
            "Estimated number of noise points: 0\n",
            "Homogeneity: 0.443\n",
            "Completeness: 0.107\n",
            "V-measure: 0.172\n"
          ]
        }
      ]
    },
    {
      "cell_type": "markdown",
      "source": [
        "Видим, что выделились кластеры по схожим значениям"
      ],
      "metadata": {
        "id": "RSoO-ooOYFoc"
      }
    },
    {
      "cell_type": "markdown",
      "source": [
        "#### **DBSCAN**"
      ],
      "metadata": {
        "id": "8ZiQ_VKjd8UL"
      }
    },
    {
      "cell_type": "markdown",
      "source": [
        "Попробуем выделить зависимости без заранее определенного количества кластеров с помощью DBSCAN"
      ],
      "metadata": {
        "id": "1_x5zA0uYLUY"
      }
    },
    {
      "cell_type": "code",
      "source": [
        "from sklearn.cluster import DBSCAN"
      ],
      "metadata": {
        "id": "XVf372baT6sg"
      },
      "execution_count": null,
      "outputs": []
    },
    {
      "cell_type": "code",
      "source": [
        "# тк алгоритм ресурсоемкий, для обучения возьмем записи на каждой 10 секунде\n",
        "db_data = united_data[::10]\n",
        "y_disp = db_data['Normal/Attack'].astype('int')\n",
        "db_data = db_data.drop('Normal/Attack', axis=1)\n",
        "db_data"
      ],
      "metadata": {
        "colab": {
          "base_uri": "https://localhost:8080/",
          "height": 866
        },
        "id": "N90JwsRi3FmK",
        "outputId": "aa0030d9-49e4-44e2-f704-86293cbb15ed"
      },
      "execution_count": null,
      "outputs": [
        {
          "output_type": "execute_result",
          "data": {
            "text/plain": [
              "                           FIT101    LIT101  MV101  P101  P102    AIT201  \\\n",
              "Timestamp                                                                  \n",
              " 28/12/2015 10:00:00 AM  2.427057  522.8467      2     2     1  262.0161   \n",
              " 28/12/2015 10:00:10 AM  2.630433  524.1028      2     2     1  262.0161   \n",
              " 28/12/2015 10:00:20 AM  2.489191  522.7290      2     2     1  262.0161   \n",
              " 28/12/2015 10:00:30 AM  2.554847  524.6523      2     2     1  262.0161   \n",
              " 28/12/2015 10:00:40 AM  2.589117  525.3196      2     2     1  262.0161   \n",
              "...                           ...       ...    ...   ...   ...       ...   \n",
              " 28/12/2015 9:59:11 AM   2.599686  522.6897      2     2     1  262.0161   \n",
              " 28/12/2015 9:59:21 AM   2.580469  523.3570      2     2     1  262.0161   \n",
              " 28/12/2015 9:59:31 AM   2.428979  521.9832      2     2     1  262.0161   \n",
              " 28/12/2015 9:59:41 AM   2.657016  521.4729      2     2     1  262.0161   \n",
              " 28/12/2015 9:59:51 AM   2.512250  522.3757      2     2     1  262.0161   \n",
              "\n",
              "                           AIT202    AIT203    FIT201  MV201  ...    FIT504  \\\n",
              "Timestamp                                                     ...             \n",
              " 28/12/2015 10:00:00 AM  8.396437  328.6337  2.445391      2  ...  0.307786   \n",
              " 28/12/2015 10:00:10 AM  8.394514  328.6337  2.441803      2  ...  0.308106   \n",
              " 28/12/2015 10:00:20 AM  8.390669  328.3773  2.439881      2  ...  0.308362   \n",
              " 28/12/2015 10:00:30 AM  8.390669  328.6337  2.439881      2  ...  0.306569   \n",
              " 28/12/2015 10:00:40 AM  8.392271  328.4030  2.439881      2  ...  0.308426   \n",
              "...                           ...       ...       ...    ...  ...       ...   \n",
              " 28/12/2015 9:59:11 AM   8.391951  328.5312  2.440906      2  ...  0.308362   \n",
              " 28/12/2015 9:59:21 AM   8.388105  328.5312  2.442316      2  ...  0.306633   \n",
              " 28/12/2015 9:59:31 AM   8.388105  328.6593  2.440393      2  ...  0.306633   \n",
              " 28/12/2015 9:59:41 AM   8.390028  328.6593  2.441034      2  ...  0.306633   \n",
              " 28/12/2015 9:59:51 AM   8.393873  328.5055  2.444751      2  ...  0.308619   \n",
              "\n",
              "                         P501  P502    PIT501    PIT502    PIT503    FIT601  \\\n",
              "Timestamp                                                                     \n",
              " 28/12/2015 10:00:00 AM     2     1  250.8652  1.649953  189.5988  0.000128   \n",
              " 28/12/2015 10:00:10 AM     2     1  251.1055  1.649953  189.8231  0.000128   \n",
              " 28/12/2015 10:00:20 AM     2     1  251.1856  1.649953  189.8872  0.000128   \n",
              " 28/12/2015 10:00:30 AM     2     1  251.0414  1.649953  189.8071  0.000128   \n",
              " 28/12/2015 10:00:40 AM     2     1  250.6569  1.649953  189.3425  0.000128   \n",
              "...                       ...   ...       ...       ...       ...       ...   \n",
              " 28/12/2015 9:59:11 AM      2     1  251.1055  1.778105  189.7590  0.000128   \n",
              " 28/12/2015 9:59:21 AM      2     1  251.2016  1.698010  189.9994  0.000128   \n",
              " 28/12/2015 9:59:31 AM      2     1  251.2176  1.698010  189.8872  0.000128   \n",
              " 28/12/2015 9:59:41 AM      2     1  251.0734  1.681991  189.9833  0.000128   \n",
              " 28/12/2015 9:59:51 AM      2     1  251.0734  1.681991  189.8552  0.000128   \n",
              "\n",
              "                         P601  P602  P603  \n",
              "Timestamp                                  \n",
              " 28/12/2015 10:00:00 AM     1     1     1  \n",
              " 28/12/2015 10:00:10 AM     1     1     1  \n",
              " 28/12/2015 10:00:20 AM     1     1     1  \n",
              " 28/12/2015 10:00:30 AM     1     1     1  \n",
              " 28/12/2015 10:00:40 AM     1     1     1  \n",
              "...                       ...   ...   ...  \n",
              " 28/12/2015 9:59:11 AM      1     1     1  \n",
              " 28/12/2015 9:59:21 AM      1     1     1  \n",
              " 28/12/2015 9:59:31 AM      1     1     1  \n",
              " 28/12/2015 9:59:41 AM      1     1     1  \n",
              " 28/12/2015 9:59:51 AM      1     1     1  \n",
              "\n",
              "[144172 rows x 51 columns]"
            ],
            "text/html": [
              "\n",
              "  <div id=\"df-faf0dbaf-3e1d-4694-828d-1424bcf6f8f8\">\n",
              "    <div class=\"colab-df-container\">\n",
              "      <div>\n",
              "<style scoped>\n",
              "    .dataframe tbody tr th:only-of-type {\n",
              "        vertical-align: middle;\n",
              "    }\n",
              "\n",
              "    .dataframe tbody tr th {\n",
              "        vertical-align: top;\n",
              "    }\n",
              "\n",
              "    .dataframe thead th {\n",
              "        text-align: right;\n",
              "    }\n",
              "</style>\n",
              "<table border=\"1\" class=\"dataframe\">\n",
              "  <thead>\n",
              "    <tr style=\"text-align: right;\">\n",
              "      <th></th>\n",
              "      <th>FIT101</th>\n",
              "      <th>LIT101</th>\n",
              "      <th>MV101</th>\n",
              "      <th>P101</th>\n",
              "      <th>P102</th>\n",
              "      <th>AIT201</th>\n",
              "      <th>AIT202</th>\n",
              "      <th>AIT203</th>\n",
              "      <th>FIT201</th>\n",
              "      <th>MV201</th>\n",
              "      <th>...</th>\n",
              "      <th>FIT504</th>\n",
              "      <th>P501</th>\n",
              "      <th>P502</th>\n",
              "      <th>PIT501</th>\n",
              "      <th>PIT502</th>\n",
              "      <th>PIT503</th>\n",
              "      <th>FIT601</th>\n",
              "      <th>P601</th>\n",
              "      <th>P602</th>\n",
              "      <th>P603</th>\n",
              "    </tr>\n",
              "    <tr>\n",
              "      <th>Timestamp</th>\n",
              "      <th></th>\n",
              "      <th></th>\n",
              "      <th></th>\n",
              "      <th></th>\n",
              "      <th></th>\n",
              "      <th></th>\n",
              "      <th></th>\n",
              "      <th></th>\n",
              "      <th></th>\n",
              "      <th></th>\n",
              "      <th></th>\n",
              "      <th></th>\n",
              "      <th></th>\n",
              "      <th></th>\n",
              "      <th></th>\n",
              "      <th></th>\n",
              "      <th></th>\n",
              "      <th></th>\n",
              "      <th></th>\n",
              "      <th></th>\n",
              "      <th></th>\n",
              "    </tr>\n",
              "  </thead>\n",
              "  <tbody>\n",
              "    <tr>\n",
              "      <th>28/12/2015 10:00:00 AM</th>\n",
              "      <td>2.427057</td>\n",
              "      <td>522.8467</td>\n",
              "      <td>2</td>\n",
              "      <td>2</td>\n",
              "      <td>1</td>\n",
              "      <td>262.0161</td>\n",
              "      <td>8.396437</td>\n",
              "      <td>328.6337</td>\n",
              "      <td>2.445391</td>\n",
              "      <td>2</td>\n",
              "      <td>...</td>\n",
              "      <td>0.307786</td>\n",
              "      <td>2</td>\n",
              "      <td>1</td>\n",
              "      <td>250.8652</td>\n",
              "      <td>1.649953</td>\n",
              "      <td>189.5988</td>\n",
              "      <td>0.000128</td>\n",
              "      <td>1</td>\n",
              "      <td>1</td>\n",
              "      <td>1</td>\n",
              "    </tr>\n",
              "    <tr>\n",
              "      <th>28/12/2015 10:00:10 AM</th>\n",
              "      <td>2.630433</td>\n",
              "      <td>524.1028</td>\n",
              "      <td>2</td>\n",
              "      <td>2</td>\n",
              "      <td>1</td>\n",
              "      <td>262.0161</td>\n",
              "      <td>8.394514</td>\n",
              "      <td>328.6337</td>\n",
              "      <td>2.441803</td>\n",
              "      <td>2</td>\n",
              "      <td>...</td>\n",
              "      <td>0.308106</td>\n",
              "      <td>2</td>\n",
              "      <td>1</td>\n",
              "      <td>251.1055</td>\n",
              "      <td>1.649953</td>\n",
              "      <td>189.8231</td>\n",
              "      <td>0.000128</td>\n",
              "      <td>1</td>\n",
              "      <td>1</td>\n",
              "      <td>1</td>\n",
              "    </tr>\n",
              "    <tr>\n",
              "      <th>28/12/2015 10:00:20 AM</th>\n",
              "      <td>2.489191</td>\n",
              "      <td>522.7290</td>\n",
              "      <td>2</td>\n",
              "      <td>2</td>\n",
              "      <td>1</td>\n",
              "      <td>262.0161</td>\n",
              "      <td>8.390669</td>\n",
              "      <td>328.3773</td>\n",
              "      <td>2.439881</td>\n",
              "      <td>2</td>\n",
              "      <td>...</td>\n",
              "      <td>0.308362</td>\n",
              "      <td>2</td>\n",
              "      <td>1</td>\n",
              "      <td>251.1856</td>\n",
              "      <td>1.649953</td>\n",
              "      <td>189.8872</td>\n",
              "      <td>0.000128</td>\n",
              "      <td>1</td>\n",
              "      <td>1</td>\n",
              "      <td>1</td>\n",
              "    </tr>\n",
              "    <tr>\n",
              "      <th>28/12/2015 10:00:30 AM</th>\n",
              "      <td>2.554847</td>\n",
              "      <td>524.6523</td>\n",
              "      <td>2</td>\n",
              "      <td>2</td>\n",
              "      <td>1</td>\n",
              "      <td>262.0161</td>\n",
              "      <td>8.390669</td>\n",
              "      <td>328.6337</td>\n",
              "      <td>2.439881</td>\n",
              "      <td>2</td>\n",
              "      <td>...</td>\n",
              "      <td>0.306569</td>\n",
              "      <td>2</td>\n",
              "      <td>1</td>\n",
              "      <td>251.0414</td>\n",
              "      <td>1.649953</td>\n",
              "      <td>189.8071</td>\n",
              "      <td>0.000128</td>\n",
              "      <td>1</td>\n",
              "      <td>1</td>\n",
              "      <td>1</td>\n",
              "    </tr>\n",
              "    <tr>\n",
              "      <th>28/12/2015 10:00:40 AM</th>\n",
              "      <td>2.589117</td>\n",
              "      <td>525.3196</td>\n",
              "      <td>2</td>\n",
              "      <td>2</td>\n",
              "      <td>1</td>\n",
              "      <td>262.0161</td>\n",
              "      <td>8.392271</td>\n",
              "      <td>328.4030</td>\n",
              "      <td>2.439881</td>\n",
              "      <td>2</td>\n",
              "      <td>...</td>\n",
              "      <td>0.308426</td>\n",
              "      <td>2</td>\n",
              "      <td>1</td>\n",
              "      <td>250.6569</td>\n",
              "      <td>1.649953</td>\n",
              "      <td>189.3425</td>\n",
              "      <td>0.000128</td>\n",
              "      <td>1</td>\n",
              "      <td>1</td>\n",
              "      <td>1</td>\n",
              "    </tr>\n",
              "    <tr>\n",
              "      <th>...</th>\n",
              "      <td>...</td>\n",
              "      <td>...</td>\n",
              "      <td>...</td>\n",
              "      <td>...</td>\n",
              "      <td>...</td>\n",
              "      <td>...</td>\n",
              "      <td>...</td>\n",
              "      <td>...</td>\n",
              "      <td>...</td>\n",
              "      <td>...</td>\n",
              "      <td>...</td>\n",
              "      <td>...</td>\n",
              "      <td>...</td>\n",
              "      <td>...</td>\n",
              "      <td>...</td>\n",
              "      <td>...</td>\n",
              "      <td>...</td>\n",
              "      <td>...</td>\n",
              "      <td>...</td>\n",
              "      <td>...</td>\n",
              "      <td>...</td>\n",
              "    </tr>\n",
              "    <tr>\n",
              "      <th>28/12/2015 9:59:11 AM</th>\n",
              "      <td>2.599686</td>\n",
              "      <td>522.6897</td>\n",
              "      <td>2</td>\n",
              "      <td>2</td>\n",
              "      <td>1</td>\n",
              "      <td>262.0161</td>\n",
              "      <td>8.391951</td>\n",
              "      <td>328.5312</td>\n",
              "      <td>2.440906</td>\n",
              "      <td>2</td>\n",
              "      <td>...</td>\n",
              "      <td>0.308362</td>\n",
              "      <td>2</td>\n",
              "      <td>1</td>\n",
              "      <td>251.1055</td>\n",
              "      <td>1.778105</td>\n",
              "      <td>189.7590</td>\n",
              "      <td>0.000128</td>\n",
              "      <td>1</td>\n",
              "      <td>1</td>\n",
              "      <td>1</td>\n",
              "    </tr>\n",
              "    <tr>\n",
              "      <th>28/12/2015 9:59:21 AM</th>\n",
              "      <td>2.580469</td>\n",
              "      <td>523.3570</td>\n",
              "      <td>2</td>\n",
              "      <td>2</td>\n",
              "      <td>1</td>\n",
              "      <td>262.0161</td>\n",
              "      <td>8.388105</td>\n",
              "      <td>328.5312</td>\n",
              "      <td>2.442316</td>\n",
              "      <td>2</td>\n",
              "      <td>...</td>\n",
              "      <td>0.306633</td>\n",
              "      <td>2</td>\n",
              "      <td>1</td>\n",
              "      <td>251.2016</td>\n",
              "      <td>1.698010</td>\n",
              "      <td>189.9994</td>\n",
              "      <td>0.000128</td>\n",
              "      <td>1</td>\n",
              "      <td>1</td>\n",
              "      <td>1</td>\n",
              "    </tr>\n",
              "    <tr>\n",
              "      <th>28/12/2015 9:59:31 AM</th>\n",
              "      <td>2.428979</td>\n",
              "      <td>521.9832</td>\n",
              "      <td>2</td>\n",
              "      <td>2</td>\n",
              "      <td>1</td>\n",
              "      <td>262.0161</td>\n",
              "      <td>8.388105</td>\n",
              "      <td>328.6593</td>\n",
              "      <td>2.440393</td>\n",
              "      <td>2</td>\n",
              "      <td>...</td>\n",
              "      <td>0.306633</td>\n",
              "      <td>2</td>\n",
              "      <td>1</td>\n",
              "      <td>251.2176</td>\n",
              "      <td>1.698010</td>\n",
              "      <td>189.8872</td>\n",
              "      <td>0.000128</td>\n",
              "      <td>1</td>\n",
              "      <td>1</td>\n",
              "      <td>1</td>\n",
              "    </tr>\n",
              "    <tr>\n",
              "      <th>28/12/2015 9:59:41 AM</th>\n",
              "      <td>2.657016</td>\n",
              "      <td>521.4729</td>\n",
              "      <td>2</td>\n",
              "      <td>2</td>\n",
              "      <td>1</td>\n",
              "      <td>262.0161</td>\n",
              "      <td>8.390028</td>\n",
              "      <td>328.6593</td>\n",
              "      <td>2.441034</td>\n",
              "      <td>2</td>\n",
              "      <td>...</td>\n",
              "      <td>0.306633</td>\n",
              "      <td>2</td>\n",
              "      <td>1</td>\n",
              "      <td>251.0734</td>\n",
              "      <td>1.681991</td>\n",
              "      <td>189.9833</td>\n",
              "      <td>0.000128</td>\n",
              "      <td>1</td>\n",
              "      <td>1</td>\n",
              "      <td>1</td>\n",
              "    </tr>\n",
              "    <tr>\n",
              "      <th>28/12/2015 9:59:51 AM</th>\n",
              "      <td>2.512250</td>\n",
              "      <td>522.3757</td>\n",
              "      <td>2</td>\n",
              "      <td>2</td>\n",
              "      <td>1</td>\n",
              "      <td>262.0161</td>\n",
              "      <td>8.393873</td>\n",
              "      <td>328.5055</td>\n",
              "      <td>2.444751</td>\n",
              "      <td>2</td>\n",
              "      <td>...</td>\n",
              "      <td>0.308619</td>\n",
              "      <td>2</td>\n",
              "      <td>1</td>\n",
              "      <td>251.0734</td>\n",
              "      <td>1.681991</td>\n",
              "      <td>189.8552</td>\n",
              "      <td>0.000128</td>\n",
              "      <td>1</td>\n",
              "      <td>1</td>\n",
              "      <td>1</td>\n",
              "    </tr>\n",
              "  </tbody>\n",
              "</table>\n",
              "<p>144172 rows × 51 columns</p>\n",
              "</div>\n",
              "      <button class=\"colab-df-convert\" onclick=\"convertToInteractive('df-faf0dbaf-3e1d-4694-828d-1424bcf6f8f8')\"\n",
              "              title=\"Convert this dataframe to an interactive table.\"\n",
              "              style=\"display:none;\">\n",
              "        \n",
              "  <svg xmlns=\"http://www.w3.org/2000/svg\" height=\"24px\"viewBox=\"0 0 24 24\"\n",
              "       width=\"24px\">\n",
              "    <path d=\"M0 0h24v24H0V0z\" fill=\"none\"/>\n",
              "    <path d=\"M18.56 5.44l.94 2.06.94-2.06 2.06-.94-2.06-.94-.94-2.06-.94 2.06-2.06.94zm-11 1L8.5 8.5l.94-2.06 2.06-.94-2.06-.94L8.5 2.5l-.94 2.06-2.06.94zm10 10l.94 2.06.94-2.06 2.06-.94-2.06-.94-.94-2.06-.94 2.06-2.06.94z\"/><path d=\"M17.41 7.96l-1.37-1.37c-.4-.4-.92-.59-1.43-.59-.52 0-1.04.2-1.43.59L10.3 9.45l-7.72 7.72c-.78.78-.78 2.05 0 2.83L4 21.41c.39.39.9.59 1.41.59.51 0 1.02-.2 1.41-.59l7.78-7.78 2.81-2.81c.8-.78.8-2.07 0-2.86zM5.41 20L4 18.59l7.72-7.72 1.47 1.35L5.41 20z\"/>\n",
              "  </svg>\n",
              "      </button>\n",
              "      \n",
              "  <style>\n",
              "    .colab-df-container {\n",
              "      display:flex;\n",
              "      flex-wrap:wrap;\n",
              "      gap: 12px;\n",
              "    }\n",
              "\n",
              "    .colab-df-convert {\n",
              "      background-color: #E8F0FE;\n",
              "      border: none;\n",
              "      border-radius: 50%;\n",
              "      cursor: pointer;\n",
              "      display: none;\n",
              "      fill: #1967D2;\n",
              "      height: 32px;\n",
              "      padding: 0 0 0 0;\n",
              "      width: 32px;\n",
              "    }\n",
              "\n",
              "    .colab-df-convert:hover {\n",
              "      background-color: #E2EBFA;\n",
              "      box-shadow: 0px 1px 2px rgba(60, 64, 67, 0.3), 0px 1px 3px 1px rgba(60, 64, 67, 0.15);\n",
              "      fill: #174EA6;\n",
              "    }\n",
              "\n",
              "    [theme=dark] .colab-df-convert {\n",
              "      background-color: #3B4455;\n",
              "      fill: #D2E3FC;\n",
              "    }\n",
              "\n",
              "    [theme=dark] .colab-df-convert:hover {\n",
              "      background-color: #434B5C;\n",
              "      box-shadow: 0px 1px 3px 1px rgba(0, 0, 0, 0.15);\n",
              "      filter: drop-shadow(0px 1px 2px rgba(0, 0, 0, 0.3));\n",
              "      fill: #FFFFFF;\n",
              "    }\n",
              "  </style>\n",
              "\n",
              "      <script>\n",
              "        const buttonEl =\n",
              "          document.querySelector('#df-faf0dbaf-3e1d-4694-828d-1424bcf6f8f8 button.colab-df-convert');\n",
              "        buttonEl.style.display =\n",
              "          google.colab.kernel.accessAllowed ? 'block' : 'none';\n",
              "\n",
              "        async function convertToInteractive(key) {\n",
              "          const element = document.querySelector('#df-faf0dbaf-3e1d-4694-828d-1424bcf6f8f8');\n",
              "          const dataTable =\n",
              "            await google.colab.kernel.invokeFunction('convertToInteractive',\n",
              "                                                     [key], {});\n",
              "          if (!dataTable) return;\n",
              "\n",
              "          const docLinkHtml = 'Like what you see? Visit the ' +\n",
              "            '<a target=\"_blank\" href=https://colab.research.google.com/notebooks/data_table.ipynb>data table notebook</a>'\n",
              "            + ' to learn more about interactive tables.';\n",
              "          element.innerHTML = '';\n",
              "          dataTable['output_type'] = 'display_data';\n",
              "          await google.colab.output.renderOutput(dataTable, element);\n",
              "          const docLink = document.createElement('div');\n",
              "          docLink.innerHTML = docLinkHtml;\n",
              "          element.appendChild(docLink);\n",
              "        }\n",
              "      </script>\n",
              "    </div>\n",
              "  </div>\n",
              "  "
            ]
          },
          "metadata": {},
          "execution_count": 35
        }
      ]
    },
    {
      "cell_type": "code",
      "source": [
        "unique, counts = np.unique(y_disp, return_counts=True)\n",
        "print(np.asarray((unique, counts)).T)"
      ],
      "metadata": {
        "colab": {
          "base_uri": "https://localhost:8080/"
        },
        "id": "N42KD6eG431Y",
        "outputId": "14d34f99-059f-4ca9-bc92-608a3b396e2e"
      },
      "execution_count": null,
      "outputs": [
        {
          "output_type": "stream",
          "name": "stdout",
          "text": [
            "[[     0 138704]\n",
            " [     1   5468]]\n"
          ]
        }
      ]
    },
    {
      "cell_type": "code",
      "source": [
        "X_scales_db = StandardScaler().fit_transform(db_data)"
      ],
      "metadata": {
        "id": "s4v1TAgU3_Tc"
      },
      "execution_count": null,
      "outputs": []
    },
    {
      "cell_type": "markdown",
      "source": [
        "Обучение"
      ],
      "metadata": {
        "id": "Ovoa9SAZYxbt"
      }
    },
    {
      "cell_type": "code",
      "source": [
        "dbscan = DBSCAN()\n",
        "dbscan.fit(X_scales_db)"
      ],
      "metadata": {
        "id": "Ffh7-bIoT-7z",
        "colab": {
          "base_uri": "https://localhost:8080/"
        },
        "outputId": "a90b7dec-faab-493a-944c-eee2d23e4c42"
      },
      "execution_count": null,
      "outputs": [
        {
          "output_type": "execute_result",
          "data": {
            "text/plain": [
              "DBSCAN()"
            ]
          },
          "metadata": {},
          "execution_count": 38
        }
      ]
    },
    {
      "cell_type": "code",
      "source": [
        "y_pred_db = dbscan.labels_.astype(int)\n",
        "y_pred_db"
      ],
      "metadata": {
        "id": "rMG0PGWmUSGt",
        "colab": {
          "base_uri": "https://localhost:8080/"
        },
        "outputId": "ff3358ea-033c-44be-dadf-e962a8e96d25"
      },
      "execution_count": null,
      "outputs": [
        {
          "output_type": "execute_result",
          "data": {
            "text/plain": [
              "array([0, 0, 0, ..., 0, 0, 0])"
            ]
          },
          "metadata": {},
          "execution_count": 39
        }
      ]
    },
    {
      "cell_type": "markdown",
      "source": [
        "Оценка точности модели"
      ],
      "metadata": {
        "id": "SCVWTO10Yywz"
      }
    },
    {
      "cell_type": "code",
      "source": [
        "labels = dbscan.labels_\n",
        "\n",
        "n_clusters_ = len(set(labels)) - (1 if -1 in labels else 0)\n",
        "n_noise_ = list(labels).count(-1)\n",
        "\n",
        "print(\"Estimated number of clusters: %d\" % n_clusters_)\n",
        "print(\"Estimated number of noise points: %d\" % n_noise_)\n",
        "print(\"Homogeneity: %0.3f\" % metrics.homogeneity_score(y_disp, labels))\n",
        "print(\"Completeness: %0.3f\" % metrics.completeness_score(y_disp, labels))\n",
        "print(\"V-measure: %0.3f\" % metrics.v_measure_score(y_disp, labels))\n",
        "print(\"Adjusted Rand Index: %0.3f\" % metrics.adjusted_rand_score(y_disp, labels))\n",
        "print(\n",
        "    \"Adjusted Mutual Information: %0.3f\"\n",
        "    % metrics.adjusted_mutual_info_score(y_disp, labels)\n",
        ")\n",
        "print(\"Silhouette Coefficient: %0.3f\" % metrics.silhouette_score(X_scales_db, labels))"
      ],
      "metadata": {
        "colab": {
          "base_uri": "https://localhost:8080/"
        },
        "id": "Jjgw-1Fp7q6w",
        "outputId": "d96644ee-3299-4adf-a14f-dce6a02cfada"
      },
      "execution_count": null,
      "outputs": [
        {
          "output_type": "stream",
          "name": "stdout",
          "text": [
            "Estimated number of clusters: 795\n",
            "Estimated number of noise points: 5225\n",
            "Homogeneity: 0.839\n",
            "Completeness: 0.035\n",
            "V-measure: 0.068\n",
            "Adjusted Rand Index: 0.013\n",
            "Adjusted Mutual Information: 0.066\n",
            "Silhouette Coefficient: 0.149\n"
          ]
        }
      ]
    },
    {
      "cell_type": "markdown",
      "source": [
        "Визуализация выделенных кластеров"
      ],
      "metadata": {
        "id": "Gr_cYnhHY2In"
      }
    },
    {
      "cell_type": "code",
      "source": [
        "core_samples_mask = np.zeros_like(dbscan.labels_, dtype=bool)\n",
        "core_samples_mask[dbscan.core_sample_indices_] = True\n",
        "\n",
        "unique_labels = set(labels)\n",
        "colors = [plt.cm.Spectral(each) for each in np.linspace(0, 1, len(unique_labels))]\n",
        "for k, col in zip(unique_labels, colors):\n",
        "    if k == -1:\n",
        "        # Black used for noise.\n",
        "        col = [0, 0, 0, 1]\n",
        "\n",
        "    class_member_mask = labels == k\n",
        "\n",
        "    xy = X_scales_db[class_member_mask & core_samples_mask]\n",
        "    plt.plot(\n",
        "        xy[:, 0],\n",
        "        xy[:, 1],\n",
        "        \"o\",\n",
        "        markerfacecolor=tuple(col),\n",
        "        markeredgecolor=\"k\",\n",
        "        markersize=14,\n",
        "    )\n",
        "\n",
        "    xy = X_scales_db[class_member_mask & ~core_samples_mask]\n",
        "    plt.plot(\n",
        "        xy[:, 0],\n",
        "        xy[:, 1],\n",
        "        \"o\",\n",
        "        markerfacecolor=tuple(col),\n",
        "        markeredgecolor=\"k\",\n",
        "        markersize=6,\n",
        "    )\n",
        "\n",
        "plt.title(\"Estimated number of clusters: %d\" % n_clusters_)\n",
        "plt.show()"
      ],
      "metadata": {
        "colab": {
          "base_uri": "https://localhost:8080/",
          "height": 281
        },
        "id": "ixHU8U7X8b37",
        "outputId": "e8efdd28-cae8-4193-84e5-1fd50f5a1ed7"
      },
      "execution_count": null,
      "outputs": [
        {
          "output_type": "display_data",
          "data": {
            "text/plain": [
              "<Figure size 432x288 with 1 Axes>"
            ],
            "image/png": "[encoded data removed]"
          },
          "metadata": {
            "needs_background": "light"
          }
        }
      ]
    },
    {
      "cell_type": "markdown",
      "source": [
        "Получили слабые показатели оценки точности модели, необходим дальнейший анализ показателей"
      ],
      "metadata": {
        "id": "2hdzUI-0Y7CY"
      }
    },
    {
      "cell_type": "markdown",
      "source": [
        "### **TadGAN**"
      ],
      "metadata": {
        "id": "BQrjU_QdwIVZ"
      }
    },
    {
      "cell_type": "markdown",
      "source": [
        "Для оценки аномалий во временном ряду замера приборов используем алгоритм Timeseries anomaly detection with Generative Adversarial Network (TadGAN)"
      ],
      "metadata": {
        "id": "DBoxQFJRwct9"
      }
    },
    {
      "cell_type": "markdown",
      "source": [
        "**Библиотеки**"
      ],
      "metadata": {
        "id": "WYC0hVDfwyDC"
      }
    },
    {
      "cell_type": "code",
      "source": [
        "import tensorflow as tf\n",
        "import tensorflow.keras.layers as L\n",
        "from tensorflow.keras.models import Sequential, Model\n",
        "\n",
        "from tqdm import tqdm\n",
        "\n",
        "from sklearn.preprocessing import MinMaxScaler"
      ],
      "metadata": {
        "id": "GLy75aIJwRY4"
      },
      "execution_count": null,
      "outputs": []
    },
    {
      "cell_type": "markdown",
      "source": [
        "#### **Функции модели**"
      ],
      "metadata": {
        "id": "k1c46JDZw7uw"
      }
    },
    {
      "cell_type": "code",
      "source": [
        "def draw_losses(aeLoss, cxLoss, czLoss, cx_g_Loss, cz_g_Loss):\n",
        "    \"\"\"\n",
        "    Рисует графики массивов, которые в программе используются для хранения ошибок\n",
        "    \"\"\"    \n",
        "    plt.figure(figsize=(20,10))\n",
        "    plt.plot(aeLoss, label=\"aeLoss\")\n",
        "    plt.plot(cxLoss, label=\"cxLoss\")\n",
        "    plt.plot(czLoss, label=\"czLoss\")\n",
        "    plt.plot(cx_g_Loss, label=\"cx_g_Loss\")\n",
        "    plt.plot(cz_g_Loss, label=\"cz_g_Loss\")\n",
        "    plt.grid(True)\n",
        "    plt.legend()\n",
        "    plt.show()"
      ],
      "metadata": {
        "id": "Y_sUE7P-wbxE"
      },
      "execution_count": null,
      "outputs": []
    },
    {
      "cell_type": "code",
      "source": [
        "def get_reconstruction_segment(model, values, start, end):\n",
        "    \"\"\"\n",
        "    Автокодировщик model получает на вход сигнал values и \n",
        "    возвращает реконструированные (декодированные) значения \n",
        "    для заданного сегмента [start, end].\n",
        "    Поскольку автокодировщик требует постоянное число сэмплов на входе, то для\n",
        "    последнего набора данных берется сегмент [end-WINWOW_SIZE, end].\n",
        "    \"\"\"\n",
        "    num = int((end - start)/WINDOW_SIZE)\n",
        "    data = []\n",
        "    left, right = 0, WINDOW_SIZE\n",
        "    \n",
        "    for i in range(num):\n",
        "        result = model.predict(np.array(values[left:right]).reshape(1,-1))\n",
        "        data = np.r_[data, result[0]]\n",
        "        left += WINDOW_SIZE\n",
        "        right += WINDOW_SIZE           \n",
        "       \n",
        "    if left < end:\n",
        "        result = model.predict(np.array(values[end-WINDOW_SIZE:end]).reshape(1,-1)).reshape(-1,1)\n",
        "        data = np.r_[data, result[-end+left:].squeeze()]\n",
        "    \n",
        "    return np.array(data) "
      ],
      "metadata": {
        "id": "SB0MiPcyw_ft"
      },
      "execution_count": null,
      "outputs": []
    },
    {
      "cell_type": "code",
      "source": [
        "def check_anomaly_pointwise_abs(ys, ys_hat, threeshold):\n",
        "    \"\"\"\n",
        "    Поточечное сравнение, модуль расстояния\n",
        "    \"\"\"\n",
        "    result = []\n",
        "    for y1, y2 in zip(ys, ys_hat):\n",
        "        if np.abs(y1-y2) > threeshold:\n",
        "            result.append(1)\n",
        "        else:\n",
        "            result.append(0)\n",
        "            \n",
        "    return np.array(result)"
      ],
      "metadata": {
        "id": "RUAyyuLUxBiH"
      },
      "execution_count": null,
      "outputs": []
    },
    {
      "cell_type": "code",
      "source": [
        "def draw_reconstruction_segment(xs, ys, ys_hat, start, end, c='g'):\n",
        "    \"\"\"\n",
        "    Рисует истинные и предсказанные значения для заданного сегмента\n",
        "    \"\"\"\n",
        "    plt.figure(figsize=(20,5))        \n",
        "    plt.plot(xs[start:end], ys[start:end], c='b', alpha=0.7, label=\"Исходный сигнал\")\n",
        "    plt.scatter(xs[start:end], ys_hat[start:end], c=c, label=\"Восстановленный сигнал\")\n",
        "    \n",
        "    plt.legend()\n",
        "    plt.show()"
      ],
      "metadata": {
        "id": "PKA0J-LdxC_G"
      },
      "execution_count": null,
      "outputs": []
    },
    {
      "cell_type": "code",
      "source": [
        "def init_model():\n",
        "\n",
        "    adam = tf.keras.optimizers.Adam(learning_rate=0.0002, beta_1=0.5)\n",
        "    \n",
        "    E = Sequential()\n",
        "    E.add(L.InputLayer(WINDOW_SIZE))\n",
        "    E.add(L.Dense(WINDOW_SIZE*2, activation='relu'))\n",
        "    E.add(L.Dropout(0.3))        \n",
        "    E.add(L.Dense(WINDOW_SIZE, activation='relu'))\n",
        "    E.add(L.Dropout(0.3))        \n",
        "    E.add(L.Dense(LATENT_VECTOR_SIZE))\n",
        "    \n",
        "    G = Sequential()\n",
        "    G.add(L.Dense(128, input_dim=LATENT_VECTOR_SIZE))\n",
        "    G.add(L.LeakyReLU(0.2))\n",
        "    G.add(L.Dropout(0.3))        \n",
        "    G.add(L.Dense(256))\n",
        "    G.add(L.LeakyReLU(0.2))\n",
        "    G.add(L.Dropout(0.3))        \n",
        "    G.add(L.Dense(512))\n",
        "    G.add(L.LeakyReLU(0.2))\n",
        "    G.add(L.Dropout(0.3))        \n",
        "    G.add(L.Dense(WINDOW_SIZE, activation='tanh'))\n",
        "    G.compile(loss='binary_crossentropy', optimizer=adam)\n",
        "    \n",
        "    Cx = Sequential()\n",
        "    Cx.add(L.Dense(1024, input_dim=WINDOW_SIZE))\n",
        "    Cx.add(L.LeakyReLU(0.2))\n",
        "    Cx.add(L.Dropout(0.3))\n",
        "    Cx.add(L.Dense(512, input_dim=WINDOW_SIZE))\n",
        "    Cx.add(L.LeakyReLU(0.2))\n",
        "    Cx.add(L.Dropout(0.3))\n",
        "    Cx.add(L.Dense(256))\n",
        "    Cx.add(L.LeakyReLU(0.2))\n",
        "    Cx.add(L.Dropout(0.3))\n",
        "    Cx.add(L.Dense(1, activation='sigmoid'))\n",
        "    Cx.compile(loss='binary_crossentropy', optimizer=adam)\n",
        "    \n",
        "    Cz = Sequential()\n",
        "    Cz.add(L.Dense(1024, input_dim=LATENT_VECTOR_SIZE))\n",
        "    Cz.add(L.LeakyReLU(0.2))\n",
        "    Cz.add(L.Dropout(0.3))\n",
        "    Cz.add(L.Dense(512))\n",
        "    Cz.add(L.LeakyReLU(0.2))\n",
        "    Cz.add(L.Dropout(0.3))\n",
        "    Cz.add(L.Dense(256))\n",
        "    Cz.add(L.LeakyReLU(0.2))\n",
        "    Cz.add(L.Dropout(0.3))\n",
        "    Cz.add(L.Dense(1, activation='sigmoid'))\n",
        "    Cz.compile(loss='binary_crossentropy', optimizer=adam)\n",
        "    \n",
        "    ae_input = L.Input(WINDOW_SIZE)\n",
        "    ae_code = E(ae_input)\n",
        "    ae_reconstruction = G(ae_code)\n",
        "    ae_model = Model(inputs=ae_input, outputs=ae_reconstruction)\n",
        "    ae_model.compile(loss='mse', optimizer=adam)\n",
        "    \n",
        "    cx_gan_input = L.Input(LATENT_VECTOR_SIZE)\n",
        "    cx_gan_code = G(cx_gan_input)\n",
        "    cx_gan_output = Cx(cx_gan_code)\n",
        "    cx_gan_model = Model(inputs=cx_gan_input, outputs=cx_gan_output)\n",
        "    cx_gan_model.compile(loss='binary_crossentropy', optimizer=adam)\n",
        "    \n",
        "    cz_gan_input = L.Input(WINDOW_SIZE)\n",
        "    cz_gan_code = E(cz_gan_input)\n",
        "    cz_gan_output = Cz(cz_gan_code)\n",
        "    cz_gan_model = Model(inputs=cz_gan_input, outputs=cz_gan_output)\n",
        "    cz_gan_model.compile(loss='binary_crossentropy', optimizer=adam)\n",
        "    \n",
        "    return E, G, Cx, Cz, ae_model, cx_gan_model, cz_gan_model"
      ],
      "metadata": {
        "id": "j3FaT56gxEDh"
      },
      "execution_count": null,
      "outputs": []
    },
    {
      "cell_type": "code",
      "source": [
        "def train_model(X_train, epochs=1, batch_size=128):\n",
        " \n",
        "    batchCount = int(X_train.shape[0] / batch_size)\n",
        "\n",
        "    for epoch in range(1, epochs+1):\n",
        "        print(\"-\"*10, \"Epoch: {}, batchCount {}\".format(epoch, batchCount), \"-\"*10)\n",
        "\n",
        "        for _ in range(batchCount):\n",
        "            \n",
        "            # обучение дискриминатора Cx\n",
        "            Cx.trainable = True            \n",
        "            idxs = np.random.choice(len(X_train)-WINDOW_SIZE, size=batch_size, replace=False)\n",
        "            fake = G.predict(np.random.normal(0, 1, size=(batch_size, LATENT_VECTOR_SIZE)))\n",
        "            X = []\n",
        "            for i in idxs:\n",
        "                X.append(X_train[i:i+WINDOW_SIZE])\n",
        "            X = np.r_[X, fake]\n",
        "            labels = np.r_[np.ones(shape=batch_size)*0.95, np.zeros(shape=batch_size)]\n",
        "            cx_loss = Cx.train_on_batch(X, labels)\n",
        "\n",
        "            # обучение генератора cx_gan_model обманывать дискриминатор Cx\n",
        "            Cx.trainable = False\n",
        "            labels = np.ones(shape=batch_size)            \n",
        "            X = np.random.normal(0, 1, size=(batch_size, LATENT_VECTOR_SIZE))\n",
        "            cx_g_loss = cx_gan_model.train_on_batch(X, labels)            \n",
        "            \n",
        "            # обучение дискриминатора Cz\n",
        "            Cz.trainable = True            \n",
        "            idxs = np.random.choice(len(X_train)-WINDOW_SIZE, size=batch_size, replace=False)\n",
        "            fake = np.array([X_train[i:i+WINDOW_SIZE] for i in idxs])\n",
        "            fake = E.predict(fake)\n",
        "            X = np.random.normal(0, 1, size=(batch_size, LATENT_VECTOR_SIZE))\n",
        "            X = np.r_[X, fake]\n",
        "            labels = np.r_[np.ones(shape=batch_size)*0.95, np.zeros(shape=batch_size)]\n",
        "            cz_loss = Cz.train_on_batch(X, labels)\n",
        "\n",
        "            # обучение генератора cx_gan_model обманывать дискриминатор Cz\n",
        "            Cz.trainable = False\n",
        "            idxs = np.random.choice(len(X_train)-WINDOW_SIZE, size=batch_size, replace=False)\n",
        "            X = []\n",
        "            for i in idxs:\n",
        "                X.append(X_train[i:i+WINDOW_SIZE])            \n",
        "            X = np.array(X)\n",
        "            labels = np.ones(shape=batch_size)                        \n",
        "            cz_g_loss = cz_gan_model.train_on_batch(X, labels)\n",
        "\n",
        "            \n",
        "            # обучение автокодировщика AE\n",
        "            idxs = np.random.choice(len(X_train)-WINDOW_SIZE, size=batch_size, replace=False)\n",
        "            X = []\n",
        "            for i in idxs:\n",
        "                X.append(X_train[i:i+WINDOW_SIZE])\n",
        "            E.trainable = True\n",
        "            G.trainable = True\n",
        "            X = np.array(X)\n",
        "            ae_loss = ae_model.train_on_batch(X, X)\n",
        "            \n",
        "\n",
        "        # оценка ошибок и периодическое сохранение картинок\n",
        "        aeLoss.append(ae_loss)\n",
        "        cxLoss.append(cx_loss)\n",
        "        czLoss.append(cz_loss)\n",
        "        cx_g_Loss.append(cx_g_loss)\n",
        "        cz_g_Loss.append(cz_g_loss)\n",
        "\n",
        "        if epoch % 4 == 0:                        \n",
        "            print(\"Эпоха {}\".format(epoch))\n",
        "            print(\"ae_loss {}, cx_loss {}, cz_loss {}, cx_g_loss {}, cz_g_loss {}\".format(ae_loss, \n",
        "                                                                                          cx_loss, \n",
        "                                                                                          cz_loss, \n",
        "                                                                                          cx_g_loss,\n",
        "                                                                                          cz_g_loss))\n",
        "            ae_model.save_weights(\"./ae_model-weights-epoch-{}.h5\".format(epoch))"
      ],
      "metadata": {
        "id": "PO_8NQTaxFao"
      },
      "execution_count": null,
      "outputs": []
    },
    {
      "cell_type": "markdown",
      "source": [
        "#### **Предобработка данных**"
      ],
      "metadata": {
        "id": "cFtcQEiNxMAk"
      }
    },
    {
      "cell_type": "code",
      "source": [
        "# параметры модели\n",
        "LATENT_VECTOR_SIZE = 10\n",
        "WINDOW_SIZE = 100"
      ],
      "metadata": {
        "id": "k3D0Deo9xHzq"
      },
      "execution_count": null,
      "outputs": []
    },
    {
      "cell_type": "code",
      "source": [
        "# данные (берем срез 15 т. первых записей для ускорения в виду ограничения времени)\n",
        "df_tadgan = united_data[:15000]"
      ],
      "metadata": {
        "id": "rXPRJPhrxSL-"
      },
      "execution_count": null,
      "outputs": []
    },
    {
      "cell_type": "code",
      "source": [
        "xs_ds1 = df_tadgan.index.values\n",
        "ys_ds1 = df_tadgan.drop('Normal/Attack', axis=1).values"
      ],
      "metadata": {
        "id": "sP1GL2knxdOQ"
      },
      "execution_count": null,
      "outputs": []
    },
    {
      "cell_type": "code",
      "source": [
        "# визуализируем исходный ряд\n",
        "plt.figure(figsize=(20, 5))\n",
        "plt.plot(ys_ds1)\n",
        "plt.show()"
      ],
      "metadata": {
        "colab": {
          "base_uri": "https://localhost:8080/",
          "height": 307
        },
        "id": "UuCvo084xh3H",
        "outputId": "db99ec54-98f0-49b9-f9d6-3727567a97bd"
      },
      "execution_count": null,
      "outputs": [
        {
          "output_type": "display_data",
          "data": {
            "text/plain": [
              "<Figure size 1440x360 with 1 Axes>"
            ],
            "image/png": "[encoded data removed]"
          },
          "metadata": {
            "needs_background": "light"
          }
        }
      ]
    },
    {
      "cell_type": "code",
      "source": [
        "# отскалируем данные\n",
        "ys_ds2 = MinMaxScaler([-1,1]).fit_transform(ys_ds1.reshape(-1,1)).squeeze()"
      ],
      "metadata": {
        "id": "v6EE1jf7xfsF"
      },
      "execution_count": null,
      "outputs": []
    },
    {
      "cell_type": "code",
      "source": [
        "# визуализируем скалированный ряд\n",
        "plt.figure(figsize=(20, 5))\n",
        "plt.plot(ys_ds2)\n",
        "plt.show()"
      ],
      "metadata": {
        "colab": {
          "base_uri": "https://localhost:8080/",
          "height": 302
        },
        "id": "bBYqf3IpxhNu",
        "outputId": "b9e89811-5352-4bbc-f13a-b0b13cac9529"
      },
      "execution_count": null,
      "outputs": [
        {
          "output_type": "display_data",
          "data": {
            "text/plain": [
              "<Figure size 1440x360 with 1 Axes>"
            ],
            "image/png": "[encoded data removed]"
          },
          "metadata": {
            "needs_background": "light"
          }
        }
      ]
    },
    {
      "cell_type": "markdown",
      "source": [
        "#### **Обучение модели**"
      ],
      "metadata": {
        "id": "Rj7YORVpxzBj"
      }
    },
    {
      "cell_type": "code",
      "source": [
        "aeLoss = []\n",
        "cxLoss = []\n",
        "czLoss = []\n",
        "cx_g_Loss = []\n",
        "cz_g_Loss = []"
      ],
      "metadata": {
        "id": "YQogbwVvxsgh"
      },
      "execution_count": null,
      "outputs": []
    },
    {
      "cell_type": "code",
      "source": [
        "# инициализация модели\n",
        "E, G, Cx, Cz, ae_model, cx_gan_model, cz_gan_model = init_model()"
      ],
      "metadata": {
        "id": "-rMu8qC3xw-A"
      },
      "execution_count": null,
      "outputs": []
    },
    {
      "cell_type": "code",
      "source": [
        "# обучение\n",
        "train_model(ys_ds2[:10000], 100, 128)"
      ],
      "metadata": {
        "colab": {
          "base_uri": "https://localhost:8080/"
        },
        "id": "sY04hs-axymB",
        "outputId": "eb5f6173-ea27-4d0e-da25-6d8aaacf2629"
      },
      "execution_count": null,
      "outputs": [
        {
          "output_type": "stream",
          "name": "stdout",
          "text": [
            "---------- Epoch: 1, batchCount 78 ----------\n",
            "WARNING:tensorflow:5 out of the last 5 calls to <function Model.make_train_function.<locals>.train_function at 0x7f2d3362a3b0> triggered tf.function retracing. Tracing is expensive and the excessive number of tracings could be due to (1) creating @tf.function repeatedly in a loop, (2) passing tensors with different shapes, (3) passing Python objects instead of tensors. For (1), please define your @tf.function outside of the loop. For (2), @tf.function has experimental_relax_shapes=True option that relaxes argument shapes that can avoid unnecessary retracing. For (3), please refer to https://www.tensorflow.org/guide/function#controlling_retracing and https://www.tensorflow.org/api_docs/python/tf/function for  more details.\n",
            "---------- Epoch: 2, batchCount 78 ----------\n",
            "---------- Epoch: 3, batchCount 78 ----------\n",
            "---------- Epoch: 4, batchCount 78 ----------\n",
            "Эпоха 4\n",
            "ae_loss 0.18484488129615784, cx_loss 0.772646963596344, cz_loss 0.2739241123199463, cx_g_loss 0.37173470854759216, cz_g_loss 0.0073778629302978516\n",
            "---------- Epoch: 5, batchCount 78 ----------\n",
            "---------- Epoch: 6, batchCount 78 ----------\n",
            "---------- Epoch: 7, batchCount 78 ----------\n",
            "---------- Epoch: 8, batchCount 78 ----------\n",
            "Эпоха 8\n",
            "ae_loss 0.1415879726409912, cx_loss 0.7740292549133301, cz_loss 0.5048373341560364, cx_g_loss 0.35733067989349365, cz_g_loss 0.03196077048778534\n",
            "---------- Epoch: 9, batchCount 78 ----------\n",
            "---------- Epoch: 10, batchCount 78 ----------\n",
            "---------- Epoch: 11, batchCount 78 ----------\n",
            "---------- Epoch: 12, batchCount 78 ----------\n",
            "Эпоха 12\n",
            "ae_loss 0.13714176416397095, cx_loss 0.7608985900878906, cz_loss 0.23930642008781433, cx_g_loss 0.3607165217399597, cz_g_loss 0.03799528256058693\n",
            "---------- Epoch: 13, batchCount 78 ----------\n",
            "---------- Epoch: 14, batchCount 78 ----------\n",
            "---------- Epoch: 15, batchCount 78 ----------\n",
            "---------- Epoch: 16, batchCount 78 ----------\n",
            "Эпоха 16\n",
            "ae_loss 0.13785888254642487, cx_loss 0.7381880283355713, cz_loss 0.3243505656719208, cx_g_loss 0.38419803977012634, cz_g_loss 0.00016020330076571554\n",
            "---------- Epoch: 17, batchCount 78 ----------\n",
            "---------- Epoch: 18, batchCount 78 ----------\n",
            "---------- Epoch: 19, batchCount 78 ----------\n",
            "---------- Epoch: 20, batchCount 78 ----------\n",
            "Эпоха 20\n",
            "ae_loss 0.13829001784324646, cx_loss 0.6999189257621765, cz_loss 0.19727149605751038, cx_g_loss 0.3962917625904083, cz_g_loss 3.362278584972955e-05\n",
            "---------- Epoch: 21, batchCount 78 ----------\n",
            "---------- Epoch: 22, batchCount 78 ----------\n",
            "---------- Epoch: 23, batchCount 78 ----------\n",
            "---------- Epoch: 24, batchCount 78 ----------\n",
            "Эпоха 24\n",
            "ae_loss 0.13924401998519897, cx_loss 0.680701732635498, cz_loss 0.18680116534233093, cx_g_loss 0.40616005659103394, cz_g_loss 0.0007044116500765085\n",
            "---------- Epoch: 25, batchCount 78 ----------\n",
            "---------- Epoch: 26, batchCount 78 ----------\n",
            "---------- Epoch: 27, batchCount 78 ----------\n",
            "---------- Epoch: 28, batchCount 78 ----------\n",
            "Эпоха 28\n",
            "ae_loss 0.13910937309265137, cx_loss 0.69803386926651, cz_loss 0.13182833790779114, cx_g_loss 0.3951556980609894, cz_g_loss 2.9024592507198577e-08\n",
            "---------- Epoch: 29, batchCount 78 ----------\n",
            "---------- Epoch: 30, batchCount 78 ----------\n",
            "---------- Epoch: 31, batchCount 78 ----------\n",
            "---------- Epoch: 32, batchCount 78 ----------\n",
            "Эпоха 32\n",
            "ae_loss 0.1391761302947998, cx_loss 0.5476245284080505, cz_loss 0.45855289697647095, cx_g_loss 0.4011348485946655, cz_g_loss 0.10160312801599503\n",
            "---------- Epoch: 33, batchCount 78 ----------\n",
            "---------- Epoch: 34, batchCount 78 ----------\n",
            "---------- Epoch: 35, batchCount 78 ----------\n",
            "---------- Epoch: 36, batchCount 78 ----------\n",
            "Эпоха 36\n",
            "ae_loss 0.13855203986167908, cx_loss 0.53526371717453, cz_loss 0.11373010277748108, cx_g_loss 0.3535642623901367, cz_g_loss 3.870900854963111e-06\n",
            "---------- Epoch: 37, batchCount 78 ----------\n",
            "---------- Epoch: 38, batchCount 78 ----------\n",
            "---------- Epoch: 39, batchCount 78 ----------\n",
            "---------- Epoch: 40, batchCount 78 ----------\n",
            "Эпоха 40\n",
            "ae_loss 0.1389886885881424, cx_loss 0.46026110649108887, cz_loss 0.10815934091806412, cx_g_loss 0.40294262766838074, cz_g_loss 3.2760567592049483e-06\n",
            "---------- Epoch: 41, batchCount 78 ----------\n",
            "---------- Epoch: 42, batchCount 78 ----------\n",
            "---------- Epoch: 43, batchCount 78 ----------\n",
            "---------- Epoch: 44, batchCount 78 ----------\n",
            "Эпоха 44\n",
            "ae_loss 0.13975822925567627, cx_loss 0.4539965093135834, cz_loss 0.11829143762588501, cx_g_loss 0.332181453704834, cz_g_loss 1.9626088032964617e-05\n",
            "---------- Epoch: 45, batchCount 78 ----------\n",
            "---------- Epoch: 46, batchCount 78 ----------\n",
            "---------- Epoch: 47, batchCount 78 ----------\n",
            "---------- Epoch: 48, batchCount 78 ----------\n",
            "Эпоха 48\n",
            "ae_loss 0.1401434689760208, cx_loss 0.3157287836074829, cz_loss 0.10749684274196625, cx_g_loss 0.23827336728572845, cz_g_loss 0.04266858100891113\n",
            "---------- Epoch: 49, batchCount 78 ----------\n",
            "---------- Epoch: 50, batchCount 78 ----------\n",
            "---------- Epoch: 51, batchCount 78 ----------\n",
            "---------- Epoch: 52, batchCount 78 ----------\n",
            "Эпоха 52\n",
            "ae_loss 0.13754206895828247, cx_loss 0.29363495111465454, cz_loss 0.10658778250217438, cx_g_loss 0.2805648446083069, cz_g_loss 0.00539809325709939\n",
            "---------- Epoch: 53, batchCount 78 ----------\n",
            "---------- Epoch: 54, batchCount 78 ----------\n",
            "---------- Epoch: 55, batchCount 78 ----------\n",
            "---------- Epoch: 56, batchCount 78 ----------\n",
            "Эпоха 56\n",
            "ae_loss 0.13812857866287231, cx_loss 0.2591440677642822, cz_loss 0.1303854137659073, cx_g_loss 0.25432008504867554, cz_g_loss 0.00011548908514669165\n",
            "---------- Epoch: 57, batchCount 78 ----------\n",
            "---------- Epoch: 58, batchCount 78 ----------\n",
            "---------- Epoch: 59, batchCount 78 ----------\n",
            "---------- Epoch: 60, batchCount 78 ----------\n",
            "Эпоха 60\n",
            "ae_loss 0.13784568011760712, cx_loss 0.24028199911117554, cz_loss 0.10568157583475113, cx_g_loss 0.22458350658416748, cz_g_loss 9.540592145640403e-06\n",
            "---------- Epoch: 61, batchCount 78 ----------\n",
            "---------- Epoch: 62, batchCount 78 ----------\n",
            "---------- Epoch: 63, batchCount 78 ----------\n",
            "---------- Epoch: 64, batchCount 78 ----------\n",
            "Эпоха 64\n",
            "ae_loss 0.13798022270202637, cx_loss 0.2463749498128891, cz_loss 0.1040264219045639, cx_g_loss 0.1781538873910904, cz_g_loss 1.161951175276954e-07\n",
            "---------- Epoch: 65, batchCount 78 ----------\n",
            "---------- Epoch: 66, batchCount 78 ----------\n",
            "---------- Epoch: 67, batchCount 78 ----------\n",
            "---------- Epoch: 68, batchCount 78 ----------\n",
            "Эпоха 68\n",
            "ae_loss 0.13719001412391663, cx_loss 0.2666890323162079, cz_loss 0.10478369891643524, cx_g_loss 0.19299961626529694, cz_g_loss 0.0009280599770136178\n",
            "---------- Epoch: 69, batchCount 78 ----------\n",
            "---------- Epoch: 70, batchCount 78 ----------\n",
            "---------- Epoch: 71, batchCount 78 ----------\n",
            "---------- Epoch: 72, batchCount 78 ----------\n",
            "Эпоха 72\n",
            "ae_loss 0.13761498034000397, cx_loss 0.24052923917770386, cz_loss 0.10428272187709808, cx_g_loss 0.27655646204948425, cz_g_loss 2.9623693720282063e-08\n",
            "---------- Epoch: 73, batchCount 78 ----------\n",
            "---------- Epoch: 74, batchCount 78 ----------\n",
            "---------- Epoch: 75, batchCount 78 ----------\n",
            "---------- Epoch: 76, batchCount 78 ----------\n",
            "Эпоха 76\n",
            "ae_loss 0.13516905903816223, cx_loss 0.2497081607580185, cz_loss 0.10228986293077469, cx_g_loss 0.2525729537010193, cz_g_loss 4.340568193583749e-05\n",
            "---------- Epoch: 77, batchCount 78 ----------\n",
            "---------- Epoch: 78, batchCount 78 ----------\n",
            "---------- Epoch: 79, batchCount 78 ----------\n",
            "---------- Epoch: 80, batchCount 78 ----------\n",
            "Эпоха 80\n",
            "ae_loss 0.13757243752479553, cx_loss 0.21176984906196594, cz_loss 0.10570356249809265, cx_g_loss 0.20816582441329956, cz_g_loss 0.0005413183243945241\n",
            "---------- Epoch: 81, batchCount 78 ----------\n",
            "---------- Epoch: 82, batchCount 78 ----------\n",
            "---------- Epoch: 83, batchCount 78 ----------\n",
            "---------- Epoch: 84, batchCount 78 ----------\n",
            "Эпоха 84\n",
            "ae_loss 0.1363525390625, cx_loss 0.21689221262931824, cz_loss 0.15131622552871704, cx_g_loss 0.23722004890441895, cz_g_loss 0.0005246509099379182\n",
            "---------- Epoch: 85, batchCount 78 ----------\n",
            "---------- Epoch: 86, batchCount 78 ----------\n",
            "---------- Epoch: 87, batchCount 78 ----------\n",
            "---------- Epoch: 88, batchCount 78 ----------\n",
            "Эпоха 88\n",
            "ae_loss 0.13780155777931213, cx_loss 0.19970759749412537, cz_loss 0.7909480333328247, cx_g_loss 0.22223465144634247, cz_g_loss 0.09726206213235855\n",
            "---------- Epoch: 89, batchCount 78 ----------\n",
            "---------- Epoch: 90, batchCount 78 ----------\n",
            "---------- Epoch: 91, batchCount 78 ----------\n",
            "---------- Epoch: 92, batchCount 78 ----------\n",
            "Эпоха 92\n",
            "ae_loss 0.1375049650669098, cx_loss 0.22379890084266663, cz_loss 0.10436300933361053, cx_g_loss 0.19111675024032593, cz_g_loss 6.248503632377833e-05\n",
            "---------- Epoch: 93, batchCount 78 ----------\n",
            "---------- Epoch: 94, batchCount 78 ----------\n",
            "---------- Epoch: 95, batchCount 78 ----------\n",
            "---------- Epoch: 96, batchCount 78 ----------\n",
            "Эпоха 96\n",
            "ae_loss 0.13703231513500214, cx_loss 0.2090001404285431, cz_loss 0.10822945088148117, cx_g_loss 0.2546056807041168, cz_g_loss 1.9591188902268186e-05\n",
            "---------- Epoch: 97, batchCount 78 ----------\n",
            "---------- Epoch: 98, batchCount 78 ----------\n",
            "---------- Epoch: 99, batchCount 78 ----------\n",
            "---------- Epoch: 100, batchCount 78 ----------\n",
            "Эпоха 100\n",
            "ae_loss 0.13654816150665283, cx_loss 0.21009856462478638, cz_loss 0.10371507704257965, cx_g_loss 0.18359380960464478, cz_g_loss 1.2778661462320429e-10\n"
          ]
        }
      ]
    },
    {
      "cell_type": "code",
      "source": [
        "# изменения ошибок в течение обучения\n",
        "draw_losses(aeLoss, cxLoss, czLoss, cx_g_Loss, cz_g_Loss)"
      ],
      "metadata": {
        "colab": {
          "base_uri": "https://localhost:8080/",
          "height": 572
        },
        "id": "RMcIvoEFyAIK",
        "outputId": "d37f9bd1-8aca-4c99-93dd-c73ffed347d8"
      },
      "execution_count": null,
      "outputs": [
        {
          "output_type": "display_data",
          "data": {
            "text/plain": [
              "<Figure size 1440x720 with 1 Axes>"
            ],
            "image/png": "[encoded data removed]"
          },
          "metadata": {
            "needs_background": "light"
          }
        }
      ]
    },
    {
      "cell_type": "markdown",
      "source": [
        "#### **Оценка результатов**"
      ],
      "metadata": {
        "id": "aM-zsjsDyNPa"
      }
    },
    {
      "cell_type": "code",
      "source": [
        "predictions_ = get_reconstruction_segment(ae_model, ys_ds2[:15000], 0, len(ys_ds2[:15000]))"
      ],
      "metadata": {
        "id": "cHVRzWUzyLl7"
      },
      "execution_count": null,
      "outputs": []
    },
    {
      "cell_type": "code",
      "source": [
        "labels_ = check_anomaly_pointwise_abs(ys_ds2, predictions_, 0.001)\n",
        "\n",
        "unique, counts = np.unique(labels_, return_counts=True)\n",
        "print(np.asarray((unique, counts)).T)"
      ],
      "metadata": {
        "colab": {
          "base_uri": "https://localhost:8080/"
        },
        "id": "Iwu2XGVtyQjL",
        "outputId": "4ae383ec-2f0b-4ce8-bf68-b8e49b76a05d"
      },
      "execution_count": null,
      "outputs": [
        {
          "output_type": "stream",
          "name": "stdout",
          "text": [
            "[[    0   588]\n",
            " [    1 14412]]\n"
          ]
        }
      ]
    },
    {
      "cell_type": "markdown",
      "source": [
        "Метрики"
      ],
      "metadata": {
        "id": "h_Hr-I3jypyr"
      }
    },
    {
      "cell_type": "code",
      "source": [
        "# accuracy\n",
        "metrics.accuracy_score(df_tadgan['Normal/Attack'].values[:len(labels_)].astype('int'), labels_)"
      ],
      "metadata": {
        "colab": {
          "base_uri": "https://localhost:8080/"
        },
        "id": "y_bN4aRUyVbB",
        "outputId": "db3a48a9-a76f-462a-a9ab-063714f7faf0"
      },
      "execution_count": null,
      "outputs": [
        {
          "output_type": "execute_result",
          "data": {
            "text/plain": [
              "0.26913333333333334"
            ]
          },
          "metadata": {},
          "execution_count": 77
        }
      ]
    },
    {
      "cell_type": "code",
      "source": [
        "# f1 score\n",
        "metrics.f1_score(df_tadgan['Normal/Attack'].values[:len(labels_)].astype('int'), labels_)"
      ],
      "metadata": {
        "colab": {
          "base_uri": "https://localhost:8080/"
        },
        "id": "8cgtup13yUFv",
        "outputId": "a779e1d2-52ad-4c03-b7a5-36aee62180f9"
      },
      "execution_count": null,
      "outputs": [
        {
          "output_type": "execute_result",
          "data": {
            "text/plain": [
              "0.39621082777991956"
            ]
          },
          "metadata": {},
          "execution_count": 78
        }
      ]
    },
    {
      "cell_type": "markdown",
      "source": [
        "Визуализация предсказаний"
      ],
      "metadata": {
        "id": "twKqwIeQylhI"
      }
    },
    {
      "cell_type": "code",
      "source": [
        "draw_reconstruction_segment(xs_ds1, ys_ds2[:15000], predictions_, 0, len(ys_ds2[:15000]))"
      ],
      "metadata": {
        "colab": {
          "base_uri": "https://localhost:8080/",
          "height": 305
        },
        "id": "Pp1LgxpMydMD",
        "outputId": "f0f33b4e-120c-4623-8304-8d5ef9a41f9e"
      },
      "execution_count": null,
      "outputs": [
        {
          "output_type": "display_data",
          "data": {
            "text/plain": [
              "<Figure size 1440x360 with 1 Axes>"
            ],
            "image/png": "[encoded data removed]"
          },
          "metadata": {
            "needs_background": "light"
          }
        }
      ]
    },
    {
      "cell_type": "code",
      "source": [
        "# визуальная оценка аномалий\n",
        "l_, r_ = 0, len(ys_ds2[:15000])\n",
        "\n",
        "plt.figure(figsize=(20,10))\n",
        "plt.plot(xs_ds1[l_:r_], ys_ds2[l_:r_], label='значения ряда')\n",
        "plt.plot(xs_ds1[l_:r_], predictions_[l_:r_], c='g', label=\"предсказанные значения\")\n",
        "plt.scatter(xs_ds1[l_:r_], df_tadgan['Normal/Attack'].values[l_:r_]-5, c='r', label=\"размеченные аномалии\")\n",
        "plt.scatter(xs_ds1[l_:r_], np.array(labels_[l_:r_])-3, c='b', label=\"найденные аномалии\")\n",
        "plt.legend()\n",
        "plt.show()"
      ],
      "metadata": {
        "colab": {
          "base_uri": "https://localhost:8080/",
          "height": 568
        },
        "id": "9iuQwNh2yfOz",
        "outputId": "3830fa22-b3ce-468b-dd37-fa3b7cf9bada"
      },
      "execution_count": null,
      "outputs": [
        {
          "output_type": "display_data",
          "data": {
            "text/plain": [
              "<Figure size 1440x720 with 1 Axes>"
            ],
            "image/png": "[encoded data removed]"
          },
          "metadata": {
            "needs_background": "light"
          }
        }
      ]
    },
    {
      "cell_type": "markdown",
      "source": [
        "Таким образом были исследованы аномалии данных с течением времени"
      ],
      "metadata": {
        "id": "56yivcZOyrl8"
      }
    }
  ]
}