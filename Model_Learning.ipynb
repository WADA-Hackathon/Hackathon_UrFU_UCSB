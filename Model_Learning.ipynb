{
  "nbformat": 4,
  "nbformat_minor": 0,
  "metadata": {
    "colab": {
      "name": "Model_Learning.ipynb",
      "provenance": [],
      "collapsed_sections": [],
      "authorship_tag": "ABX9TyMOe0pPROG6KbLmsEy+PQKr"
    },
    "kernelspec": {
      "name": "python3",
      "display_name": "Python 3"
    },
    "language_info": {
      "name": "python"
    }
  },
  "cells": [
    {
      "cell_type": "markdown",
      "source": [
        "# **Загрузка данных, предобработка, обучение модели**"
      ],
      "metadata": {
        "id": "M2eZ3-2VMBs2"
      }
    },
    {
      "cell_type": "markdown",
      "source": [
        "## Скачивание архива с данными из облака и распаковка архива"
      ],
      "metadata": {
        "id": "wyh9oKXAMUAd"
      }
    },
    {
      "cell_type": "code",
      "execution_count": null,
      "metadata": {
        "colab": {
          "base_uri": "https://localhost:8080/"
        },
        "id": "sv4dfSY6CHXy",
        "outputId": "5842c552-4c48-48ef-b441-dda5916cedb8"
      },
      "outputs": [
        {
          "output_type": "stream",
          "name": "stdout",
          "text": [
            "/usr/local/lib/python3.7/dist-packages/gdown/cli.py:131: FutureWarning: Option `--id` was deprecated in version 4.3.1 and will be removed in 5.0. You don't need to pass it anymore to use a file ID.\n",
            "  category=FutureWarning,\n",
            "Downloading...\n",
            "From: https://drive.google.com/uc?id=120fgForM_FPs6VLorTEehhbjagJfJBRv\n",
            "To: /content/merged_data.zip\n",
            "100% 53.5M/53.5M [00:00<00:00, 115MB/s]\n"
          ]
        }
      ],
      "source": [
        "!gdown --id 120fgForM_FPs6VLorTEehhbjagJfJBRv"
      ]
    },
    {
      "cell_type": "code",
      "source": [
        "!unzip /content/merged_data.zip"
      ],
      "metadata": {
        "colab": {
          "base_uri": "https://localhost:8080/"
        },
        "id": "-kOHujvVCJXm",
        "outputId": "bfd15d71-0781-486c-ea03-ee4b7fa37f68"
      },
      "execution_count": null,
      "outputs": [
        {
          "output_type": "stream",
          "name": "stdout",
          "text": [
            "Archive:  /content/merged_data.zip\n",
            "  inflating: merged_data.csv         \n"
          ]
        }
      ]
    },
    {
      "cell_type": "code",
      "source": [
        "!rm /content/merged_data.zip"
      ],
      "metadata": {
        "id": "a2vtGyw2CMWp"
      },
      "execution_count": null,
      "outputs": []
    },
    {
      "cell_type": "markdown",
      "source": [
        "## Предобработка данных"
      ],
      "metadata": {
        "id": "tcGFer5BMfs_"
      }
    },
    {
      "cell_type": "markdown",
      "source": [
        "Импорт библиотек"
      ],
      "metadata": {
        "id": "kQzbzU91Mkdm"
      }
    },
    {
      "cell_type": "code",
      "source": [
        "import numpy as np\n",
        "import pandas as pd\n",
        "import matplotlib.pyplot as plt\n",
        "from sklearn import preprocessing\n",
        "from sklearn.linear_model import LogisticRegression\n",
        "from sklearn.model_selection import train_test_split\n",
        "from sklearn.preprocessing import StandardScaler"
      ],
      "metadata": {
        "id": "zX8EPxihCf-5"
      },
      "execution_count": null,
      "outputs": []
    },
    {
      "cell_type": "markdown",
      "source": [
        "Считывание файла и проверка"
      ],
      "metadata": {
        "id": "Y2uIhbi-Mm9K"
      }
    },
    {
      "cell_type": "code",
      "source": [
        "united_data = pd.read_csv('/content/merged_data.csv', sep=',')"
      ],
      "metadata": {
        "id": "MYaNl40yCmgk"
      },
      "execution_count": null,
      "outputs": []
    },
    {
      "cell_type": "code",
      "source": [
        "united_data.info()"
      ],
      "metadata": {
        "colab": {
          "base_uri": "https://localhost:8080/"
        },
        "id": "8fvbbicFDFng",
        "outputId": "00b83bd2-1a19-44d8-e61d-be862bf5e5f5"
      },
      "execution_count": null,
      "outputs": [
        {
          "output_type": "stream",
          "name": "stdout",
          "text": [
            "<class 'pandas.core.frame.DataFrame'>\n",
            "RangeIndex: 1441719 entries, 0 to 1441718\n",
            "Data columns (total 54 columns):\n",
            " #   Column         Non-Null Count    Dtype  \n",
            "---  ------         --------------    -----  \n",
            " 0   Unnamed: 0     1441719 non-null  int64  \n",
            " 1   Timestamp      1441719 non-null  object \n",
            " 2   FIT101         1441719 non-null  float64\n",
            " 3   LIT101         1441719 non-null  float64\n",
            " 4   MV101          1441719 non-null  int64  \n",
            " 5   P101           1441719 non-null  int64  \n",
            " 6   P102           1441719 non-null  int64  \n",
            " 7   AIT201         1441719 non-null  float64\n",
            " 8   AIT202         1441719 non-null  float64\n",
            " 9   AIT203         1441719 non-null  float64\n",
            " 10  FIT201         1441719 non-null  float64\n",
            " 11  MV201          1441719 non-null  int64  \n",
            " 12  P201           1441719 non-null  int64  \n",
            " 13  P202           1441719 non-null  int64  \n",
            " 14  P203           1441719 non-null  int64  \n",
            " 15  P204           1441719 non-null  int64  \n",
            " 16  P205           1441719 non-null  int64  \n",
            " 17  P206           1441719 non-null  int64  \n",
            " 18  DPIT301        1441719 non-null  float64\n",
            " 19  FIT301         1441719 non-null  float64\n",
            " 20  LIT301         1441719 non-null  float64\n",
            " 21  MV301          1441719 non-null  int64  \n",
            " 22  MV302          1441719 non-null  int64  \n",
            " 23  MV303          1441719 non-null  int64  \n",
            " 24  MV304          1441719 non-null  int64  \n",
            " 25  P301           1441719 non-null  int64  \n",
            " 26  P302           1441719 non-null  int64  \n",
            " 27  AIT401         1441719 non-null  float64\n",
            " 28  AIT402         1441719 non-null  float64\n",
            " 29  FIT401         1441719 non-null  float64\n",
            " 30  LIT401         1441719 non-null  float64\n",
            " 31  P401           1441719 non-null  int64  \n",
            " 32  P402           1441719 non-null  int64  \n",
            " 33  P403           1441719 non-null  int64  \n",
            " 34  P404           1441719 non-null  int64  \n",
            " 35  UV401          1441719 non-null  int64  \n",
            " 36  AIT501         1441719 non-null  float64\n",
            " 37  AIT502         1441719 non-null  float64\n",
            " 38  AIT503         1441719 non-null  float64\n",
            " 39  AIT504         1441719 non-null  float64\n",
            " 40  FIT501         1441719 non-null  float64\n",
            " 41  FIT502         1441719 non-null  float64\n",
            " 42  FIT503         1441719 non-null  float64\n",
            " 43  FIT504         1441719 non-null  float64\n",
            " 44  P501           1441719 non-null  int64  \n",
            " 45  P502           1441719 non-null  int64  \n",
            " 46  PIT501         1441719 non-null  float64\n",
            " 47  PIT502         1441719 non-null  float64\n",
            " 48  PIT503         1441719 non-null  float64\n",
            " 49  FIT601         1441719 non-null  float64\n",
            " 50  P601           1441719 non-null  int64  \n",
            " 51  P602           1441719 non-null  int64  \n",
            " 52  P603           1441719 non-null  int64  \n",
            " 53  Normal/Attack  1441719 non-null  object \n",
            "dtypes: float64(25), int64(27), object(2)\n",
            "memory usage: 594.0+ MB\n"
          ]
        }
      ]
    },
    {
      "cell_type": "code",
      "source": [
        "# удаление лишнего столбца\n",
        "united_data.drop('Unnamed: 0', axis=1, inplace=True)"
      ],
      "metadata": {
        "id": "sGA1CcyfDMR8"
      },
      "execution_count": null,
      "outputs": []
    },
    {
      "cell_type": "code",
      "source": [
        "# превращение колонки с временем в индекс\n",
        "united_data = united_data.set_index('Timestamp')"
      ],
      "metadata": {
        "id": "hjrplBs1ENsi"
      },
      "execution_count": null,
      "outputs": []
    },
    {
      "cell_type": "code",
      "source": [
        "# обработка целевой переменной\n",
        "united_data['Normal/Attack'] = united_data['Normal/Attack'].str.replace(' ', '')\n",
        "united_data.loc[united_data[\"Normal/Attack\"] == \"Normal\", \"Normal/Attack\"] = 0\n",
        "united_data.loc[united_data[\"Normal/Attack\"] == \"Attack\", \"Normal/Attack\"] = 1"
      ],
      "metadata": {
        "id": "d9VsdzydC46I"
      },
      "execution_count": null,
      "outputs": []
    },
    {
      "cell_type": "code",
      "source": [
        "display(united_data)"
      ],
      "metadata": {
        "colab": {
          "base_uri": "https://localhost:8080/",
          "height": 866
        },
        "id": "GLgnDFRYEkAs",
        "outputId": "ec80daec-b6d1-400c-efbc-75a06a24820a"
      },
      "execution_count": null,
      "outputs": [
        {
          "output_type": "display_data",
          "data": {
            "text/plain": [
              "                           FIT101    LIT101  MV101  P101  P102    AIT201  \\\n",
              "Timestamp                                                                  \n",
              " 28/12/2015 10:00:00 AM  2.427057  522.8467      2     2     1  262.0161   \n",
              " 28/12/2015 10:00:01 AM  2.446274  522.8860      2     2     1  262.0161   \n",
              " 28/12/2015 10:00:02 AM  2.489191  522.8467      2     2     1  262.0161   \n",
              " 28/12/2015 10:00:03 AM  2.534350  522.9645      2     2     1  262.0161   \n",
              " 28/12/2015 10:00:04 AM  2.569260  523.4748      2     2     1  262.0161   \n",
              "...                           ...       ...    ...   ...   ...       ...   \n",
              " 28/12/2015 9:59:55 AM   2.460366  523.0430      2     2     1  262.0161   \n",
              " 28/12/2015 9:59:56 AM   2.448836  522.9645      2     2     1  262.0161   \n",
              " 28/12/2015 9:59:57 AM   2.434744  522.8860      2     2     1  262.0161   \n",
              " 28/12/2015 9:59:58 AM   2.428338  522.9252      2     2     1  262.0161   \n",
              " 28/12/2015 9:59:59 AM   2.427057  522.8467      2     2     1  262.0161   \n",
              "\n",
              "                           AIT202    AIT203    FIT201  MV201  ...  P501  P502  \\\n",
              "Timestamp                                                     ...               \n",
              " 28/12/2015 10:00:00 AM  8.396437  328.6337  2.445391      2  ...     2     1   \n",
              " 28/12/2015 10:00:01 AM  8.396437  328.6337  2.445391      2  ...     2     1   \n",
              " 28/12/2015 10:00:02 AM  8.394514  328.6337  2.442316      2  ...     2     1   \n",
              " 28/12/2015 10:00:03 AM  8.394514  328.6337  2.442316      2  ...     2     1   \n",
              " 28/12/2015 10:00:04 AM  8.394514  328.6337  2.443085      2  ...     2     1   \n",
              "...                           ...       ...       ...    ...  ...   ...   ...   \n",
              " 28/12/2015 9:59:55 AM   8.396437  328.5055  2.442316      2  ...     2     1   \n",
              " 28/12/2015 9:59:56 AM   8.396437  328.5055  2.442316      2  ...     2     1   \n",
              " 28/12/2015 9:59:57 AM   8.396437  328.6337  2.444879      2  ...     2     1   \n",
              " 28/12/2015 9:59:58 AM   8.396437  328.6337  2.445391      2  ...     2     1   \n",
              " 28/12/2015 9:59:59 AM   8.396437  328.6337  2.445391      2  ...     2     1   \n",
              "\n",
              "                           PIT501    PIT502    PIT503    FIT601  P601  P602  \\\n",
              "Timestamp                                                                     \n",
              " 28/12/2015 10:00:00 AM  250.8652  1.649953  189.5988  0.000128     1     1   \n",
              " 28/12/2015 10:00:01 AM  250.8652  1.649953  189.6789  0.000128     1     1   \n",
              " 28/12/2015 10:00:02 AM  250.8812  1.649953  189.6789  0.000128     1     1   \n",
              " 28/12/2015 10:00:03 AM  250.8812  1.649953  189.6148  0.000128     1     1   \n",
              " 28/12/2015 10:00:04 AM  250.8812  1.649953  189.5027  0.000128     1     1   \n",
              "...                           ...       ...       ...       ...   ...   ...   \n",
              " 28/12/2015 9:59:55 AM   250.8171  1.778105  189.8552  0.000128     1     1   \n",
              " 28/12/2015 9:59:56 AM   250.8171  1.778105  189.5027  0.000128     1     1   \n",
              " 28/12/2015 9:59:57 AM   250.8171  1.778105  189.5027  0.000128     1     1   \n",
              " 28/12/2015 9:59:58 AM   250.8171  1.649953  189.5027  0.000128     1     1   \n",
              " 28/12/2015 9:59:59 AM   250.8652  1.649953  189.5988  0.000128     1     1   \n",
              "\n",
              "                         P603  Normal/Attack  \n",
              "Timestamp                                     \n",
              " 28/12/2015 10:00:00 AM     1              0  \n",
              " 28/12/2015 10:00:01 AM     1              0  \n",
              " 28/12/2015 10:00:02 AM     1              0  \n",
              " 28/12/2015 10:00:03 AM     1              0  \n",
              " 28/12/2015 10:00:04 AM     1              0  \n",
              "...                       ...            ...  \n",
              " 28/12/2015 9:59:55 AM      1              0  \n",
              " 28/12/2015 9:59:56 AM      1              0  \n",
              " 28/12/2015 9:59:57 AM      1              0  \n",
              " 28/12/2015 9:59:58 AM      1              0  \n",
              " 28/12/2015 9:59:59 AM      1              0  \n",
              "\n",
              "[1441719 rows x 52 columns]"
            ],
            "text/html": [
              "\n",
              "  <div id=\"df-2eacfe72-7cda-4525-b9d9-4958c907747f\">\n",
              "    <div class=\"colab-df-container\">\n",
              "      <div>\n",
              "<style scoped>\n",
              "    .dataframe tbody tr th:only-of-type {\n",
              "        vertical-align: middle;\n",
              "    }\n",
              "\n",
              "    .dataframe tbody tr th {\n",
              "        vertical-align: top;\n",
              "    }\n",
              "\n",
              "    .dataframe thead th {\n",
              "        text-align: right;\n",
              "    }\n",
              "</style>\n",
              "<table border=\"1\" class=\"dataframe\">\n",
              "  <thead>\n",
              "    <tr style=\"text-align: right;\">\n",
              "      <th></th>\n",
              "      <th>FIT101</th>\n",
              "      <th>LIT101</th>\n",
              "      <th>MV101</th>\n",
              "      <th>P101</th>\n",
              "      <th>P102</th>\n",
              "      <th>AIT201</th>\n",
              "      <th>AIT202</th>\n",
              "      <th>AIT203</th>\n",
              "      <th>FIT201</th>\n",
              "      <th>MV201</th>\n",
              "      <th>...</th>\n",
              "      <th>P501</th>\n",
              "      <th>P502</th>\n",
              "      <th>PIT501</th>\n",
              "      <th>PIT502</th>\n",
              "      <th>PIT503</th>\n",
              "      <th>FIT601</th>\n",
              "      <th>P601</th>\n",
              "      <th>P602</th>\n",
              "      <th>P603</th>\n",
              "      <th>Normal/Attack</th>\n",
              "    </tr>\n",
              "    <tr>\n",
              "      <th>Timestamp</th>\n",
              "      <th></th>\n",
              "      <th></th>\n",
              "      <th></th>\n",
              "      <th></th>\n",
              "      <th></th>\n",
              "      <th></th>\n",
              "      <th></th>\n",
              "      <th></th>\n",
              "      <th></th>\n",
              "      <th></th>\n",
              "      <th></th>\n",
              "      <th></th>\n",
              "      <th></th>\n",
              "      <th></th>\n",
              "      <th></th>\n",
              "      <th></th>\n",
              "      <th></th>\n",
              "      <th></th>\n",
              "      <th></th>\n",
              "      <th></th>\n",
              "      <th></th>\n",
              "    </tr>\n",
              "  </thead>\n",
              "  <tbody>\n",
              "    <tr>\n",
              "      <th>28/12/2015 10:00:00 AM</th>\n",
              "      <td>2.427057</td>\n",
              "      <td>522.8467</td>\n",
              "      <td>2</td>\n",
              "      <td>2</td>\n",
              "      <td>1</td>\n",
              "      <td>262.0161</td>\n",
              "      <td>8.396437</td>\n",
              "      <td>328.6337</td>\n",
              "      <td>2.445391</td>\n",
              "      <td>2</td>\n",
              "      <td>...</td>\n",
              "      <td>2</td>\n",
              "      <td>1</td>\n",
              "      <td>250.8652</td>\n",
              "      <td>1.649953</td>\n",
              "      <td>189.5988</td>\n",
              "      <td>0.000128</td>\n",
              "      <td>1</td>\n",
              "      <td>1</td>\n",
              "      <td>1</td>\n",
              "      <td>0</td>\n",
              "    </tr>\n",
              "    <tr>\n",
              "      <th>28/12/2015 10:00:01 AM</th>\n",
              "      <td>2.446274</td>\n",
              "      <td>522.8860</td>\n",
              "      <td>2</td>\n",
              "      <td>2</td>\n",
              "      <td>1</td>\n",
              "      <td>262.0161</td>\n",
              "      <td>8.396437</td>\n",
              "      <td>328.6337</td>\n",
              "      <td>2.445391</td>\n",
              "      <td>2</td>\n",
              "      <td>...</td>\n",
              "      <td>2</td>\n",
              "      <td>1</td>\n",
              "      <td>250.8652</td>\n",
              "      <td>1.649953</td>\n",
              "      <td>189.6789</td>\n",
              "      <td>0.000128</td>\n",
              "      <td>1</td>\n",
              "      <td>1</td>\n",
              "      <td>1</td>\n",
              "      <td>0</td>\n",
              "    </tr>\n",
              "    <tr>\n",
              "      <th>28/12/2015 10:00:02 AM</th>\n",
              "      <td>2.489191</td>\n",
              "      <td>522.8467</td>\n",
              "      <td>2</td>\n",
              "      <td>2</td>\n",
              "      <td>1</td>\n",
              "      <td>262.0161</td>\n",
              "      <td>8.394514</td>\n",
              "      <td>328.6337</td>\n",
              "      <td>2.442316</td>\n",
              "      <td>2</td>\n",
              "      <td>...</td>\n",
              "      <td>2</td>\n",
              "      <td>1</td>\n",
              "      <td>250.8812</td>\n",
              "      <td>1.649953</td>\n",
              "      <td>189.6789</td>\n",
              "      <td>0.000128</td>\n",
              "      <td>1</td>\n",
              "      <td>1</td>\n",
              "      <td>1</td>\n",
              "      <td>0</td>\n",
              "    </tr>\n",
              "    <tr>\n",
              "      <th>28/12/2015 10:00:03 AM</th>\n",
              "      <td>2.534350</td>\n",
              "      <td>522.9645</td>\n",
              "      <td>2</td>\n",
              "      <td>2</td>\n",
              "      <td>1</td>\n",
              "      <td>262.0161</td>\n",
              "      <td>8.394514</td>\n",
              "      <td>328.6337</td>\n",
              "      <td>2.442316</td>\n",
              "      <td>2</td>\n",
              "      <td>...</td>\n",
              "      <td>2</td>\n",
              "      <td>1</td>\n",
              "      <td>250.8812</td>\n",
              "      <td>1.649953</td>\n",
              "      <td>189.6148</td>\n",
              "      <td>0.000128</td>\n",
              "      <td>1</td>\n",
              "      <td>1</td>\n",
              "      <td>1</td>\n",
              "      <td>0</td>\n",
              "    </tr>\n",
              "    <tr>\n",
              "      <th>28/12/2015 10:00:04 AM</th>\n",
              "      <td>2.569260</td>\n",
              "      <td>523.4748</td>\n",
              "      <td>2</td>\n",
              "      <td>2</td>\n",
              "      <td>1</td>\n",
              "      <td>262.0161</td>\n",
              "      <td>8.394514</td>\n",
              "      <td>328.6337</td>\n",
              "      <td>2.443085</td>\n",
              "      <td>2</td>\n",
              "      <td>...</td>\n",
              "      <td>2</td>\n",
              "      <td>1</td>\n",
              "      <td>250.8812</td>\n",
              "      <td>1.649953</td>\n",
              "      <td>189.5027</td>\n",
              "      <td>0.000128</td>\n",
              "      <td>1</td>\n",
              "      <td>1</td>\n",
              "      <td>1</td>\n",
              "      <td>0</td>\n",
              "    </tr>\n",
              "    <tr>\n",
              "      <th>...</th>\n",
              "      <td>...</td>\n",
              "      <td>...</td>\n",
              "      <td>...</td>\n",
              "      <td>...</td>\n",
              "      <td>...</td>\n",
              "      <td>...</td>\n",
              "      <td>...</td>\n",
              "      <td>...</td>\n",
              "      <td>...</td>\n",
              "      <td>...</td>\n",
              "      <td>...</td>\n",
              "      <td>...</td>\n",
              "      <td>...</td>\n",
              "      <td>...</td>\n",
              "      <td>...</td>\n",
              "      <td>...</td>\n",
              "      <td>...</td>\n",
              "      <td>...</td>\n",
              "      <td>...</td>\n",
              "      <td>...</td>\n",
              "      <td>...</td>\n",
              "    </tr>\n",
              "    <tr>\n",
              "      <th>28/12/2015 9:59:55 AM</th>\n",
              "      <td>2.460366</td>\n",
              "      <td>523.0430</td>\n",
              "      <td>2</td>\n",
              "      <td>2</td>\n",
              "      <td>1</td>\n",
              "      <td>262.0161</td>\n",
              "      <td>8.396437</td>\n",
              "      <td>328.5055</td>\n",
              "      <td>2.442316</td>\n",
              "      <td>2</td>\n",
              "      <td>...</td>\n",
              "      <td>2</td>\n",
              "      <td>1</td>\n",
              "      <td>250.8171</td>\n",
              "      <td>1.778105</td>\n",
              "      <td>189.8552</td>\n",
              "      <td>0.000128</td>\n",
              "      <td>1</td>\n",
              "      <td>1</td>\n",
              "      <td>1</td>\n",
              "      <td>0</td>\n",
              "    </tr>\n",
              "    <tr>\n",
              "      <th>28/12/2015 9:59:56 AM</th>\n",
              "      <td>2.448836</td>\n",
              "      <td>522.9645</td>\n",
              "      <td>2</td>\n",
              "      <td>2</td>\n",
              "      <td>1</td>\n",
              "      <td>262.0161</td>\n",
              "      <td>8.396437</td>\n",
              "      <td>328.5055</td>\n",
              "      <td>2.442316</td>\n",
              "      <td>2</td>\n",
              "      <td>...</td>\n",
              "      <td>2</td>\n",
              "      <td>1</td>\n",
              "      <td>250.8171</td>\n",
              "      <td>1.778105</td>\n",
              "      <td>189.5027</td>\n",
              "      <td>0.000128</td>\n",
              "      <td>1</td>\n",
              "      <td>1</td>\n",
              "      <td>1</td>\n",
              "      <td>0</td>\n",
              "    </tr>\n",
              "    <tr>\n",
              "      <th>28/12/2015 9:59:57 AM</th>\n",
              "      <td>2.434744</td>\n",
              "      <td>522.8860</td>\n",
              "      <td>2</td>\n",
              "      <td>2</td>\n",
              "      <td>1</td>\n",
              "      <td>262.0161</td>\n",
              "      <td>8.396437</td>\n",
              "      <td>328.6337</td>\n",
              "      <td>2.444879</td>\n",
              "      <td>2</td>\n",
              "      <td>...</td>\n",
              "      <td>2</td>\n",
              "      <td>1</td>\n",
              "      <td>250.8171</td>\n",
              "      <td>1.778105</td>\n",
              "      <td>189.5027</td>\n",
              "      <td>0.000128</td>\n",
              "      <td>1</td>\n",
              "      <td>1</td>\n",
              "      <td>1</td>\n",
              "      <td>0</td>\n",
              "    </tr>\n",
              "    <tr>\n",
              "      <th>28/12/2015 9:59:58 AM</th>\n",
              "      <td>2.428338</td>\n",
              "      <td>522.9252</td>\n",
              "      <td>2</td>\n",
              "      <td>2</td>\n",
              "      <td>1</td>\n",
              "      <td>262.0161</td>\n",
              "      <td>8.396437</td>\n",
              "      <td>328.6337</td>\n",
              "      <td>2.445391</td>\n",
              "      <td>2</td>\n",
              "      <td>...</td>\n",
              "      <td>2</td>\n",
              "      <td>1</td>\n",
              "      <td>250.8171</td>\n",
              "      <td>1.649953</td>\n",
              "      <td>189.5027</td>\n",
              "      <td>0.000128</td>\n",
              "      <td>1</td>\n",
              "      <td>1</td>\n",
              "      <td>1</td>\n",
              "      <td>0</td>\n",
              "    </tr>\n",
              "    <tr>\n",
              "      <th>28/12/2015 9:59:59 AM</th>\n",
              "      <td>2.427057</td>\n",
              "      <td>522.8467</td>\n",
              "      <td>2</td>\n",
              "      <td>2</td>\n",
              "      <td>1</td>\n",
              "      <td>262.0161</td>\n",
              "      <td>8.396437</td>\n",
              "      <td>328.6337</td>\n",
              "      <td>2.445391</td>\n",
              "      <td>2</td>\n",
              "      <td>...</td>\n",
              "      <td>2</td>\n",
              "      <td>1</td>\n",
              "      <td>250.8652</td>\n",
              "      <td>1.649953</td>\n",
              "      <td>189.5988</td>\n",
              "      <td>0.000128</td>\n",
              "      <td>1</td>\n",
              "      <td>1</td>\n",
              "      <td>1</td>\n",
              "      <td>0</td>\n",
              "    </tr>\n",
              "  </tbody>\n",
              "</table>\n",
              "<p>1441719 rows × 52 columns</p>\n",
              "</div>\n",
              "      <button class=\"colab-df-convert\" onclick=\"convertToInteractive('df-2eacfe72-7cda-4525-b9d9-4958c907747f')\"\n",
              "              title=\"Convert this dataframe to an interactive table.\"\n",
              "              style=\"display:none;\">\n",
              "        \n",
              "  <svg xmlns=\"http://www.w3.org/2000/svg\" height=\"24px\"viewBox=\"0 0 24 24\"\n",
              "       width=\"24px\">\n",
              "    <path d=\"M0 0h24v24H0V0z\" fill=\"none\"/>\n",
              "    <path d=\"M18.56 5.44l.94 2.06.94-2.06 2.06-.94-2.06-.94-.94-2.06-.94 2.06-2.06.94zm-11 1L8.5 8.5l.94-2.06 2.06-.94-2.06-.94L8.5 2.5l-.94 2.06-2.06.94zm10 10l.94 2.06.94-2.06 2.06-.94-2.06-.94-.94-2.06-.94 2.06-2.06.94z\"/><path d=\"M17.41 7.96l-1.37-1.37c-.4-.4-.92-.59-1.43-.59-.52 0-1.04.2-1.43.59L10.3 9.45l-7.72 7.72c-.78.78-.78 2.05 0 2.83L4 21.41c.39.39.9.59 1.41.59.51 0 1.02-.2 1.41-.59l7.78-7.78 2.81-2.81c.8-.78.8-2.07 0-2.86zM5.41 20L4 18.59l7.72-7.72 1.47 1.35L5.41 20z\"/>\n",
              "  </svg>\n",
              "      </button>\n",
              "      \n",
              "  <style>\n",
              "    .colab-df-container {\n",
              "      display:flex;\n",
              "      flex-wrap:wrap;\n",
              "      gap: 12px;\n",
              "    }\n",
              "\n",
              "    .colab-df-convert {\n",
              "      background-color: #E8F0FE;\n",
              "      border: none;\n",
              "      border-radius: 50%;\n",
              "      cursor: pointer;\n",
              "      display: none;\n",
              "      fill: #1967D2;\n",
              "      height: 32px;\n",
              "      padding: 0 0 0 0;\n",
              "      width: 32px;\n",
              "    }\n",
              "\n",
              "    .colab-df-convert:hover {\n",
              "      background-color: #E2EBFA;\n",
              "      box-shadow: 0px 1px 2px rgba(60, 64, 67, 0.3), 0px 1px 3px 1px rgba(60, 64, 67, 0.15);\n",
              "      fill: #174EA6;\n",
              "    }\n",
              "\n",
              "    [theme=dark] .colab-df-convert {\n",
              "      background-color: #3B4455;\n",
              "      fill: #D2E3FC;\n",
              "    }\n",
              "\n",
              "    [theme=dark] .colab-df-convert:hover {\n",
              "      background-color: #434B5C;\n",
              "      box-shadow: 0px 1px 3px 1px rgba(0, 0, 0, 0.15);\n",
              "      filter: drop-shadow(0px 1px 2px rgba(0, 0, 0, 0.3));\n",
              "      fill: #FFFFFF;\n",
              "    }\n",
              "  </style>\n",
              "\n",
              "      <script>\n",
              "        const buttonEl =\n",
              "          document.querySelector('#df-2eacfe72-7cda-4525-b9d9-4958c907747f button.colab-df-convert');\n",
              "        buttonEl.style.display =\n",
              "          google.colab.kernel.accessAllowed ? 'block' : 'none';\n",
              "\n",
              "        async function convertToInteractive(key) {\n",
              "          const element = document.querySelector('#df-2eacfe72-7cda-4525-b9d9-4958c907747f');\n",
              "          const dataTable =\n",
              "            await google.colab.kernel.invokeFunction('convertToInteractive',\n",
              "                                                     [key], {});\n",
              "          if (!dataTable) return;\n",
              "\n",
              "          const docLinkHtml = 'Like what you see? Visit the ' +\n",
              "            '<a target=\"_blank\" href=https://colab.research.google.com/notebooks/data_table.ipynb>data table notebook</a>'\n",
              "            + ' to learn more about interactive tables.';\n",
              "          element.innerHTML = '';\n",
              "          dataTable['output_type'] = 'display_data';\n",
              "          await google.colab.output.renderOutput(dataTable, element);\n",
              "          const docLink = document.createElement('div');\n",
              "          docLink.innerHTML = docLinkHtml;\n",
              "          element.appendChild(docLink);\n",
              "        }\n",
              "      </script>\n",
              "    </div>\n",
              "  </div>\n",
              "  "
            ]
          },
          "metadata": {}
        }
      ]
    },
    {
      "cell_type": "code",
      "source": [
        "united_data[\"Normal/Attack\"].value_counts().plot(kind='bar')"
      ],
      "metadata": {
        "colab": {
          "base_uri": "https://localhost:8080/",
          "height": 290
        },
        "id": "J5WrYzshkJP8",
        "outputId": "8bf7ed6b-25b0-45ae-acc1-69ab53be16f5"
      },
      "execution_count": 55,
      "outputs": [
        {
          "output_type": "execute_result",
          "data": {
            "text/plain": [
              "<matplotlib.axes._subplots.AxesSubplot at 0x7f700ba101d0>"
            ]
          },
          "metadata": {},
          "execution_count": 55
        },
        {
          "output_type": "display_data",
          "data": {
            "text/plain": [
              "<Figure size 432x288 with 1 Axes>"
            ],
            "image/png": "[encoded data removed]"
          },
          "metadata": {
            "needs_background": "light"
          }
        }
      ]
    },
    {
      "cell_type": "markdown",
      "source": [
        "## Обучение модели"
      ],
      "metadata": {
        "id": "jmXQVhlzNKDd"
      }
    },
    {
      "cell_type": "code",
      "source": [
        "classifier = LogisticRegression(solver='lbfgs',random_state=0)"
      ],
      "metadata": {
        "id": "Tp8eeAs7EvFj"
      },
      "execution_count": null,
      "outputs": []
    },
    {
      "cell_type": "code",
      "source": [
        "scaler = StandardScaler()\n",
        "scaled_data = scaler.fit_transform(united_data.drop('Normal/Attack', axis=1))"
      ],
      "metadata": {
        "id": "n5OirPMtKy7w"
      },
      "execution_count": null,
      "outputs": []
    },
    {
      "cell_type": "code",
      "source": [
        "Y = united_data['Normal/Attack']\n",
        "Y = Y.astype('int')\n",
        "X_train, X_test, Y_train, Y_test = train_test_split(scaled_data, Y, random_state=0, stratify=Y)"
      ],
      "metadata": {
        "id": "I-X7YfBIEykT"
      },
      "execution_count": null,
      "outputs": []
    },
    {
      "cell_type": "code",
      "source": [
        "united_data['Normal/Attack'].value_counts(ascending=True)"
      ],
      "metadata": {
        "colab": {
          "base_uri": "https://localhost:8080/"
        },
        "id": "mN1Eo5U6F3pn",
        "outputId": "8d27bcd3-8bf6-4029-e61d-ef22e1ac6d45"
      },
      "execution_count": null,
      "outputs": [
        {
          "output_type": "execute_result",
          "data": {
            "text/plain": [
              "1      54621\n",
              "0    1387098\n",
              "Name: Normal/Attack, dtype: int64"
            ]
          },
          "metadata": {},
          "execution_count": 26
        }
      ]
    },
    {
      "cell_type": "code",
      "source": [
        "classifier.fit(X_train, Y_train)"
      ],
      "metadata": {
        "colab": {
          "base_uri": "https://localhost:8080/"
        },
        "id": "v2ikN-czE21u",
        "outputId": "2885f49c-bf79-4bfc-f7f6-68cc739004d2"
      },
      "execution_count": null,
      "outputs": [
        {
          "output_type": "stream",
          "name": "stderr",
          "text": [
            "/usr/local/lib/python3.7/dist-packages/sklearn/linear_model/_logistic.py:818: ConvergenceWarning: lbfgs failed to converge (status=1):\n",
            "STOP: TOTAL NO. of ITERATIONS REACHED LIMIT.\n",
            "\n",
            "Increase the number of iterations (max_iter) or scale the data as shown in:\n",
            "    https://scikit-learn.org/stable/modules/preprocessing.html\n",
            "Please also refer to the documentation for alternative solver options:\n",
            "    https://scikit-learn.org/stable/modules/linear_model.html#logistic-regression\n",
            "  extra_warning_msg=_LOGISTIC_SOLVER_CONVERGENCE_MSG,\n"
          ]
        },
        {
          "output_type": "execute_result",
          "data": {
            "text/plain": [
              "LogisticRegression(random_state=0)"
            ]
          },
          "metadata": {},
          "execution_count": 27
        }
      ]
    },
    {
      "cell_type": "code",
      "source": [
        "predicted_y = classifier.predict(X_test)\n",
        "predicted_y"
      ],
      "metadata": {
        "colab": {
          "base_uri": "https://localhost:8080/"
        },
        "id": "7btaexrKIhRk",
        "outputId": "b7b79d4a-4045-4873-c00c-e7ff6535b9cd"
      },
      "execution_count": null,
      "outputs": [
        {
          "output_type": "execute_result",
          "data": {
            "text/plain": [
              "array([0, 0, 0, ..., 0, 0, 0])"
            ]
          },
          "metadata": {},
          "execution_count": 28
        }
      ]
    },
    {
      "cell_type": "markdown",
      "source": [
        "Метрика accuracy по классификации:"
      ],
      "metadata": {
        "id": "69AtkbXhgYno"
      }
    },
    {
      "cell_type": "code",
      "source": [
        "print('Accuracy: {:.2f}'.format(classifier.score(X_test, Y_test)))"
      ],
      "metadata": {
        "colab": {
          "base_uri": "https://localhost:8080/"
        },
        "id": "NQ3vB1uVIgPL",
        "outputId": "ff6d66ac-df88-406b-fd5b-57ff625a2748"
      },
      "execution_count": null,
      "outputs": [
        {
          "output_type": "stream",
          "name": "stdout",
          "text": [
            "Accuracy: 0.99\n"
          ]
        }
      ]
    },
    {
      "cell_type": "markdown",
      "source": [
        "Все метрики:"
      ],
      "metadata": {
        "id": "B8iLTtsugdTs"
      }
    },
    {
      "cell_type": "code",
      "source": [
        "from sklearn.metrics import accuracy_score, precision_score, recall_score, f1_score"
      ],
      "metadata": {
        "id": "ZmXs8FaM1Rv_"
      },
      "execution_count": null,
      "outputs": []
    },
    {
      "cell_type": "code",
      "source": [
        "print(accuracy_score(Y_test,predicted_y))\n",
        "print(precision_score(Y_test,predicted_y))\n",
        "print(recall_score(Y_test,predicted_y))\n",
        "print(f1_score(Y_test,predicted_y))"
      ],
      "metadata": {
        "colab": {
          "base_uri": "https://localhost:8080/"
        },
        "id": "mA5dKa-x1_96",
        "outputId": "68f6ded8-f33e-4a8f-a767-d33865b57366"
      },
      "execution_count": null,
      "outputs": [
        {
          "output_type": "stream",
          "name": "stdout",
          "text": [
            "0.9897289348833338\n",
            "0.9826398991368441\n",
            "0.741999267667521\n",
            "0.8455311691563047\n"
          ]
        }
      ]
    },
    {
      "cell_type": "markdown",
      "source": [
        "## **Кластеризация**"
      ],
      "metadata": {
        "id": "I8OYZHJhNpf4"
      }
    },
    {
      "cell_type": "markdown",
      "source": [
        "**K-means**"
      ],
      "metadata": {
        "id": "dWZofWy9gslo"
      }
    },
    {
      "cell_type": "code",
      "source": [
        "import matplotlib.pyplot as plt\n",
        "from matplotlib.image import imread\n",
        "import pandas as pd\n",
        "import seaborn as sns\n",
        "from sklearn.cluster import KMeans, SpectralClustering\n",
        "from sklearn.preprocessing import StandardScaler\n",
        "from sklearn.metrics import silhouette_samples, silhouette_score\n",
        "from sklearn.metrics import classification_report\n",
        "from sklearn.metrics import confusion_matrix"
      ],
      "metadata": {
        "id": "h_9-6xxQNVa3"
      },
      "execution_count": null,
      "outputs": []
    },
    {
      "cell_type": "code",
      "source": [
        "df=united_data\n",
        "df = df.drop('Normal/Attack', axis=1)"
      ],
      "metadata": {
        "id": "6xsee7HiNzAz"
      },
      "execution_count": null,
      "outputs": []
    },
    {
      "cell_type": "code",
      "source": [
        "X_std = StandardScaler().fit_transform(df)"
      ],
      "metadata": {
        "id": "q857JeReN3c9"
      },
      "execution_count": null,
      "outputs": []
    },
    {
      "cell_type": "code",
      "source": [
        "Y = united_data['Normal/Attack']\n",
        "Y = Y.astype('int')\n",
        "X_train, X_test, Y_train, Y_test = train_test_split(X_std, Y, random_state=0, stratify=Y)"
      ],
      "metadata": {
        "id": "wWZeGnI_N13N"
      },
      "execution_count": null,
      "outputs": []
    },
    {
      "cell_type": "code",
      "source": [
        "km = KMeans(n_clusters = 2, init='k-means++', max_iter=100)\n",
        "km.fit(X_std)"
      ],
      "metadata": {
        "colab": {
          "base_uri": "https://localhost:8080/"
        },
        "id": "tsfD69U7N4sG",
        "outputId": "8d9bfad9-4543-4ed7-926a-062b9a00f031"
      },
      "execution_count": null,
      "outputs": [
        {
          "output_type": "execute_result",
          "data": {
            "text/plain": [
              "KMeans(max_iter=100, n_clusters=2)"
            ]
          },
          "metadata": {},
          "execution_count": 16
        }
      ]
    },
    {
      "cell_type": "code",
      "source": [
        "y_pred = km.labels_.astype(int)\n",
        "y_pred"
      ],
      "metadata": {
        "colab": {
          "base_uri": "https://localhost:8080/"
        },
        "id": "ppxS1NoTQ6KN",
        "outputId": "32f7087c-1796-4f49-8314-2801dd86f93c"
      },
      "execution_count": null,
      "outputs": [
        {
          "output_type": "execute_result",
          "data": {
            "text/plain": [
              "array([0, 0, 0, ..., 0, 0, 0])"
            ]
          },
          "metadata": {},
          "execution_count": 17
        }
      ]
    },
    {
      "cell_type": "code",
      "source": [
        "unique, counts = np.unique(y_pred, return_counts=True)\n",
        "print(np.asarray((unique, counts)).T)"
      ],
      "metadata": {
        "colab": {
          "base_uri": "https://localhost:8080/"
        },
        "id": "9ebgvDWcSjyj",
        "outputId": "607de7fd-ecb5-438f-c14f-44a454ed93ae"
      },
      "execution_count": null,
      "outputs": [
        {
          "output_type": "stream",
          "name": "stdout",
          "text": [
            "[[      0 1404939]\n",
            " [      1   36780]]\n"
          ]
        }
      ]
    },
    {
      "cell_type": "markdown",
      "source": [
        "Сравнение получившихся кластеров с целевой переменной датасета"
      ],
      "metadata": {
        "id": "nE46faHfgjy1"
      }
    },
    {
      "cell_type": "code",
      "source": [
        "print(accuracy_score(united_data['Normal/Attack'].astype('int'),y_pred))"
      ],
      "metadata": {
        "colab": {
          "base_uri": "https://localhost:8080/"
        },
        "id": "SnMiifw0fXLE",
        "outputId": "c46dd144-9a97-4568-8a46-ec88cba90c1a"
      },
      "execution_count": null,
      "outputs": [
        {
          "output_type": "stream",
          "name": "stdout",
          "text": [
            "0.9810177988914622\n"
          ]
        }
      ]
    },
    {
      "cell_type": "markdown",
      "source": [
        "Визуализация"
      ],
      "metadata": {
        "id": "C9VWjAgpkmAB"
      }
    },
    {
      "cell_type": "code",
      "source": [
        "from itertools import cycle, islice"
      ],
      "metadata": {
        "id": "scLrttq-jW7Q"
      },
      "execution_count": 52,
      "outputs": []
    },
    {
      "cell_type": "code",
      "source": [
        "plt.subplot()\n",
        "plt.xticks([]); plt.yticks([])\n",
        "colors = np.array(list(islice(cycle(['#377eb8', '#ff7f00']),\n",
        "                                  int(max(y_pred) + 1))))\n",
        "plt.scatter(X_std[:, 0], X_std[:, 1], color=colors[y_pred])"
      ],
      "metadata": {
        "colab": {
          "base_uri": "https://localhost:8080/",
          "height": 269
        },
        "id": "4k3NKVvnhHNG",
        "outputId": "2ca2adf9-05b4-4ce9-8f47-e27bed5e4289"
      },
      "execution_count": 53,
      "outputs": [
        {
          "output_type": "execute_result",
          "data": {
            "text/plain": [
              "<matplotlib.collections.PathCollection at 0x7f700f6952d0>"
            ]
          },
          "metadata": {},
          "execution_count": 53
        },
        {
          "output_type": "display_data",
          "data": {
            "text/plain": [
              "<Figure size 432x288 with 1 Axes>"
            ],
            "image/png": "[encoded data removed]"
          },
          "metadata": {}
        }
      ]
    },
    {
      "cell_type": "markdown",
      "source": [
        "**DBSCAN**"
      ],
      "metadata": {
        "id": "8ZiQ_VKjd8UL"
      }
    },
    {
      "cell_type": "code",
      "source": [
        "from sklearn.cluster import DBSCAN"
      ],
      "metadata": {
        "id": "XVf372baT6sg"
      },
      "execution_count": null,
      "outputs": []
    },
    {
      "cell_type": "code",
      "source": [
        "dbscan = DBSCAN(eps = 30, min_samples = 6)\n",
        "dbscan.fit(X_std)"
      ],
      "metadata": {
        "id": "Ffh7-bIoT-7z"
      },
      "execution_count": null,
      "outputs": []
    },
    {
      "cell_type": "code",
      "source": [
        "y_pred_db = km.labels_.astype(int)\n",
        "y_pred_db"
      ],
      "metadata": {
        "id": "rMG0PGWmUSGt"
      },
      "execution_count": null,
      "outputs": []
    }
  ]
}